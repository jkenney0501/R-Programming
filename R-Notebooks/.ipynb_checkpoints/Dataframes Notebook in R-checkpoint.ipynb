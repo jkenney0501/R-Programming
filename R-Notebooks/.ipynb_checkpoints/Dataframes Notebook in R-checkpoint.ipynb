{
 "cells": [
  {
   "cell_type": "markdown",
   "id": "1c8db93c",
   "metadata": {},
   "source": [
    "### Dataframes\n",
    "\n",
    "<p>Dataframes are one of the most commonly used structures in R. Below are the characteristis of a dataframe.\n",
    "    <li>Has rows and cols.</li>\n",
    "    <li>Has nrow, ncol, and dim properties.</li>\n",
    "    <li>Every col must be the same data type (within that col).</li>\n",
    "    <li>You can index similar to matrix.</li> \n",
    "</p>\n",
    "\n",
    "<p>To create, use data.frame()\n",
    "    <li>To add row names: use row.names = ('col1', 'col2')</li>\n",
    "    <li>head(df_name, n) - returns top n rows</li>\n",
    "    <li>col.names() - returns col names</li>\n",
    "    <li>tail(df_name, n) - returns bottom n rows</li>\n",
    "    <li>str() - returns structure of df</li>\n",
    "    <li>ummary() - returns 5 num summary of set, (mean, max, min, median) per numeric col</li>\n",
    "    \n",
    "</p>"
   ]
  },
  {
   "cell_type": "code",
   "execution_count": 2,
   "id": "348adab6",
   "metadata": {},
   "outputs": [
    {
     "data": {
      "text/html": [
       "<table>\n",
       "<thead><tr><th scope=col>country</th><th scope=col>population</th><th scope=col>EU</th></tr></thead>\n",
       "<tbody>\n",
       "\t<tr><td>Portugal</td><td>10280000</td><td> TRUE   </td></tr>\n",
       "\t<tr><td>France  </td><td>66990000</td><td> TRUE   </td></tr>\n",
       "\t<tr><td>UK      </td><td>66650000</td><td>FALSE   </td></tr>\n",
       "</tbody>\n",
       "</table>\n"
      ],
      "text/latex": [
       "\\begin{tabular}{r|lll}\n",
       " country & population & EU\\\\\n",
       "\\hline\n",
       "\t Portugal & 10280000 &  TRUE   \\\\\n",
       "\t France   & 66990000 &  TRUE   \\\\\n",
       "\t UK       & 66650000 & FALSE   \\\\\n",
       "\\end{tabular}\n"
      ],
      "text/markdown": [
       "\n",
       "| country | population | EU |\n",
       "|---|---|---|\n",
       "| Portugal | 10280000 |  TRUE    |\n",
       "| France   | 66990000 |  TRUE    |\n",
       "| UK       | 66650000 | FALSE    |\n",
       "\n"
      ],
      "text/plain": [
       "  country  population EU   \n",
       "1 Portugal 10280000    TRUE\n",
       "2 France   66990000    TRUE\n",
       "3 UK       66650000   FALSE"
      ]
     },
     "metadata": {},
     "output_type": "display_data"
    }
   ],
   "source": [
    "# Creating a data frame -  note if version is less than 4, you have to use stringsAsFactors = FALSE\n",
    "# preferred to use col names then arguments as below\n",
    "countries_data <- data.frame(\n",
    "  country=c('Portugal', 'France', 'UK'), \n",
    "  population = c(10280000, 66990000, 66650000),\n",
    "  EU = c(TRUE, TRUE, FALSE),\n",
    "  stringsAsFactors = FALSE)\n",
    "\n",
    "countries_data"
   ]
  },
  {
   "cell_type": "code",
   "execution_count": 3,
   "id": "e763c0c5",
   "metadata": {},
   "outputs": [
    {
     "name": "stdout",
     "output_type": "stream",
     "text": [
      "'data.frame':\t3 obs. of  3 variables:\n",
      " $ country   : chr  \"Portugal\" \"France\" \"UK\"\n",
      " $ population: num  10280000 66990000 66650000\n",
      " $ EU        : logi  TRUE TRUE FALSE\n"
     ]
    }
   ],
   "source": [
    "# see the structure\n",
    "str(countries_data)"
   ]
  },
  {
   "cell_type": "code",
   "execution_count": 4,
   "id": "08864789",
   "metadata": {},
   "outputs": [
    {
     "data": {
      "text/html": [
       "'data.frame'"
      ],
      "text/latex": [
       "'data.frame'"
      ],
      "text/markdown": [
       "'data.frame'"
      ],
      "text/plain": [
       "[1] \"data.frame\""
      ]
     },
     "metadata": {},
     "output_type": "display_data"
    }
   ],
   "source": [
    "# see the class\n",
    "class(countries_data)"
   ]
  },
  {
   "cell_type": "code",
   "execution_count": 5,
   "id": "e296dc75",
   "metadata": {},
   "outputs": [
    {
     "data": {
      "text/html": [
       "<table>\n",
       "<thead><tr><th></th><th scope=col>population</th><th scope=col>EU</th></tr></thead>\n",
       "<tbody>\n",
       "\t<tr><th scope=row>Portugal</th><td>10280000</td><td> TRUE   </td></tr>\n",
       "\t<tr><th scope=row>France</th><td>66990000</td><td> TRUE   </td></tr>\n",
       "\t<tr><th scope=row>UK</th><td>66650000</td><td>FALSE   </td></tr>\n",
       "</tbody>\n",
       "</table>\n"
      ],
      "text/latex": [
       "\\begin{tabular}{r|ll}\n",
       "  & population & EU\\\\\n",
       "\\hline\n",
       "\tPortugal & 10280000 &  TRUE   \\\\\n",
       "\tFrance & 66990000 &  TRUE   \\\\\n",
       "\tUK & 66650000 & FALSE   \\\\\n",
       "\\end{tabular}\n"
      ],
      "text/markdown": [
       "\n",
       "| <!--/--> | population | EU |\n",
       "|---|---|---|\n",
       "| Portugal | 10280000 |  TRUE    |\n",
       "| France | 66990000 |  TRUE    |\n",
       "| UK | 66650000 | FALSE    |\n",
       "\n"
      ],
      "text/plain": [
       "         population EU   \n",
       "Portugal 10280000    TRUE\n",
       "France   66990000    TRUE\n",
       "UK       66650000   FALSE"
      ]
     },
     "metadata": {},
     "output_type": "display_data"
    }
   ],
   "source": [
    "# name the rows of the df with countries names\n",
    "# df changes to 3 obs with 2 vars.\n",
    "countries_data <- data.frame(\n",
    "  population = c(10280000, 66990000, 66650000),\n",
    "  EU = c(TRUE, TRUE, FALSE),\n",
    "  row.names = c('Portugal', 'France', 'UK'))\n",
    "\n",
    "countries_data"
   ]
  },
  {
   "cell_type": "markdown",
   "id": "560bcde4",
   "metadata": {},
   "source": [
    "### Indexing and Modifying Data Frames"
   ]
  },
  {
   "cell_type": "code",
   "execution_count": 6,
   "id": "0b1e062e",
   "metadata": {},
   "outputs": [
    {
     "data": {
      "text/html": [
       "10280000"
      ],
      "text/latex": [
       "10280000"
      ],
      "text/markdown": [
       "10280000"
      ],
      "text/plain": [
       "[1] 10280000"
      ]
     },
     "metadata": {},
     "output_type": "display_data"
    }
   ],
   "source": [
    "# same as indexing matrices\n",
    "# 1st col, 1st row\n",
    "countries_data[1,1]"
   ]
  },
  {
   "cell_type": "code",
   "execution_count": 7,
   "id": "56a0a6b6",
   "metadata": {},
   "outputs": [
    {
     "data": {
      "text/html": [
       "<table>\n",
       "<thead><tr><th></th><th scope=col>population</th><th scope=col>EU</th></tr></thead>\n",
       "<tbody>\n",
       "\t<tr><th scope=row>Portugal</th><td>10280000</td><td>TRUE    </td></tr>\n",
       "</tbody>\n",
       "</table>\n"
      ],
      "text/latex": [
       "\\begin{tabular}{r|ll}\n",
       "  & population & EU\\\\\n",
       "\\hline\n",
       "\tPortugal & 10280000 & TRUE    \\\\\n",
       "\\end{tabular}\n"
      ],
      "text/markdown": [
       "\n",
       "| <!--/--> | population | EU |\n",
       "|---|---|---|\n",
       "| Portugal | 10280000 | TRUE     |\n",
       "\n"
      ],
      "text/plain": [
       "         population EU  \n",
       "Portugal 10280000   TRUE"
      ]
     },
     "metadata": {},
     "output_type": "display_data"
    }
   ],
   "source": [
    "# 1st row-all\n",
    "countries_data[1,]"
   ]
  },
  {
   "cell_type": "code",
   "execution_count": 8,
   "id": "564d4f57",
   "metadata": {},
   "outputs": [
    {
     "data": {
      "text/html": [
       "<table>\n",
       "<thead><tr><th></th><th scope=col>population</th><th scope=col>EU</th></tr></thead>\n",
       "<tbody>\n",
       "\t<tr><th scope=row>France</th><td>66990000</td><td>TRUE    </td></tr>\n",
       "</tbody>\n",
       "</table>\n"
      ],
      "text/latex": [
       "\\begin{tabular}{r|ll}\n",
       "  & population & EU\\\\\n",
       "\\hline\n",
       "\tFrance & 66990000 & TRUE    \\\\\n",
       "\\end{tabular}\n"
      ],
      "text/markdown": [
       "\n",
       "| <!--/--> | population | EU |\n",
       "|---|---|---|\n",
       "| France | 66990000 | TRUE     |\n",
       "\n"
      ],
      "text/plain": [
       "       population EU  \n",
       "France 66990000   TRUE"
      ]
     },
     "metadata": {},
     "output_type": "display_data"
    }
   ],
   "source": [
    "# can also use row name to index\n",
    "countries_data['France',]"
   ]
  },
  {
   "cell_type": "code",
   "execution_count": 9,
   "id": "a724c6ec",
   "metadata": {},
   "outputs": [
    {
     "data": {
      "text/html": [
       "<table>\n",
       "<thead><tr><th></th><th scope=col>population</th></tr></thead>\n",
       "<tbody>\n",
       "\t<tr><th scope=row>Portugal</th><td>10280000</td></tr>\n",
       "\t<tr><th scope=row>France</th><td>66990000</td></tr>\n",
       "\t<tr><th scope=row>UK</th><td>66650000</td></tr>\n",
       "</tbody>\n",
       "</table>\n"
      ],
      "text/latex": [
       "\\begin{tabular}{r|l}\n",
       "  & population\\\\\n",
       "\\hline\n",
       "\tPortugal & 10280000\\\\\n",
       "\tFrance & 66990000\\\\\n",
       "\tUK & 66650000\\\\\n",
       "\\end{tabular}\n"
      ],
      "text/markdown": [
       "\n",
       "| <!--/--> | population |\n",
       "|---|---|\n",
       "| Portugal | 10280000 |\n",
       "| France | 66990000 |\n",
       "| UK | 66650000 |\n",
       "\n"
      ],
      "text/plain": [
       "         population\n",
       "Portugal 10280000  \n",
       "France   66990000  \n",
       "UK       66650000  "
      ]
     },
     "metadata": {},
     "output_type": "display_data"
    }
   ],
   "source": [
    "# get 1st col, gives all rows and the whole column\n",
    "countries_data['population']"
   ]
  },
  {
   "cell_type": "code",
   "execution_count": 10,
   "id": "7285bf49",
   "metadata": {},
   "outputs": [
    {
     "data": {
      "text/html": [
       "<table>\n",
       "<thead><tr><th></th><th scope=col>population</th><th scope=col>EU</th></tr></thead>\n",
       "<tbody>\n",
       "\t<tr><th scope=row>Portugal</th><td>       1</td><td> TRUE   </td></tr>\n",
       "\t<tr><th scope=row>France</th><td>66990000</td><td> TRUE   </td></tr>\n",
       "\t<tr><th scope=row>UK</th><td>66650000</td><td>FALSE   </td></tr>\n",
       "</tbody>\n",
       "</table>\n"
      ],
      "text/latex": [
       "\\begin{tabular}{r|ll}\n",
       "  & population & EU\\\\\n",
       "\\hline\n",
       "\tPortugal &        1 &  TRUE   \\\\\n",
       "\tFrance & 66990000 &  TRUE   \\\\\n",
       "\tUK & 66650000 & FALSE   \\\\\n",
       "\\end{tabular}\n"
      ],
      "text/markdown": [
       "\n",
       "| <!--/--> | population | EU |\n",
       "|---|---|---|\n",
       "| Portugal |        1 |  TRUE    |\n",
       "| France | 66990000 |  TRUE    |\n",
       "| UK | 66650000 | FALSE    |\n",
       "\n"
      ],
      "text/plain": [
       "         population EU   \n",
       "Portugal        1    TRUE\n",
       "France   66990000    TRUE\n",
       "UK       66650000   FALSE"
      ]
     },
     "metadata": {},
     "output_type": "display_data"
    }
   ],
   "source": [
    "# change the population of Portugal to 1, assign to var if required.\n",
    "countries_data['Portugal', 'population']<-1\n",
    "\n",
    "countries_data"
   ]
  },
  {
   "cell_type": "markdown",
   "id": "e1b2a54d",
   "metadata": {},
   "source": [
    "### Expanding Data Frames"
   ]
  },
  {
   "cell_type": "code",
   "execution_count": 13,
   "id": "cca3fd79",
   "metadata": {},
   "outputs": [
    {
     "data": {
      "text/html": [
       "<table>\n",
       "<thead><tr><th scope=col>country</th><th scope=col>population</th><th scope=col>EU</th></tr></thead>\n",
       "<tbody>\n",
       "\t<tr><td>Portugal</td><td>10280000</td><td> TRUE   </td></tr>\n",
       "\t<tr><td>France  </td><td>66990000</td><td> TRUE   </td></tr>\n",
       "\t<tr><td>UK      </td><td>66650000</td><td>FALSE   </td></tr>\n",
       "\t<tr><td>Spain   </td><td>46754778</td><td> TRUE   </td></tr>\n",
       "</tbody>\n",
       "</table>\n"
      ],
      "text/latex": [
       "\\begin{tabular}{r|lll}\n",
       " country & population & EU\\\\\n",
       "\\hline\n",
       "\t Portugal & 10280000 &  TRUE   \\\\\n",
       "\t France   & 66990000 &  TRUE   \\\\\n",
       "\t UK       & 66650000 & FALSE   \\\\\n",
       "\t Spain    & 46754778 &  TRUE   \\\\\n",
       "\\end{tabular}\n"
      ],
      "text/markdown": [
       "\n",
       "| country | population | EU |\n",
       "|---|---|---|\n",
       "| Portugal | 10280000 |  TRUE    |\n",
       "| France   | 66990000 |  TRUE    |\n",
       "| UK       | 66650000 | FALSE    |\n",
       "| Spain    | 46754778 |  TRUE    |\n",
       "\n"
      ],
      "text/plain": [
       "  country  population EU   \n",
       "1 Portugal 10280000    TRUE\n",
       "2 France   66990000    TRUE\n",
       "3 UK       66650000   FALSE\n",
       "4 Spain    46754778    TRUE"
      ]
     },
     "metadata": {},
     "output_type": "display_data"
    }
   ],
   "source": [
    "# re-run countries data with no row names\n",
    "countries_data <- data.frame(\n",
    "  country=c('Portugal', 'France', 'UK'), \n",
    "  population = c(10280000, 66990000, 66650000),\n",
    "  EU = c(TRUE, TRUE, FALSE),\n",
    "  stringsAsFactors = FALSE)\n",
    "\n",
    "# add another country to countries DF - Spain\n",
    "spain_data <- data.frame(\n",
    "  country = c('Spain'),\n",
    "  population = c(46754778),\n",
    "  EU = c(TRUE),\n",
    "  stringsAsFactors = FALSE\n",
    ")\n",
    "\n",
    "# to append the Spain data to countries data, use rbind()\n",
    "rbind(countries_data, spain_data)\n",
    "\n",
    "countries_data<-rbind(countries_data, spain_data)"
   ]
  },
  {
   "cell_type": "code",
   "execution_count": 14,
   "id": "4b9de319",
   "metadata": {},
   "outputs": [
    {
     "data": {
      "text/html": [
       "<table>\n",
       "<thead><tr><th scope=col>country</th><th scope=col>population</th><th scope=col>EU</th><th scope=col>capitals</th></tr></thead>\n",
       "<tbody>\n",
       "\t<tr><td>Portugal</td><td>10280000</td><td> TRUE   </td><td>Lisbon  </td></tr>\n",
       "\t<tr><td>France  </td><td>66990000</td><td> TRUE   </td><td>Paris   </td></tr>\n",
       "\t<tr><td>UK      </td><td>66650000</td><td>FALSE   </td><td>London  </td></tr>\n",
       "\t<tr><td>Spain   </td><td>46754778</td><td> TRUE   </td><td>Madrid  </td></tr>\n",
       "</tbody>\n",
       "</table>\n"
      ],
      "text/latex": [
       "\\begin{tabular}{r|llll}\n",
       " country & population & EU & capitals\\\\\n",
       "\\hline\n",
       "\t Portugal & 10280000 &  TRUE    & Lisbon  \\\\\n",
       "\t France   & 66990000 &  TRUE    & Paris   \\\\\n",
       "\t UK       & 66650000 & FALSE    & London  \\\\\n",
       "\t Spain    & 46754778 &  TRUE    & Madrid  \\\\\n",
       "\\end{tabular}\n"
      ],
      "text/markdown": [
       "\n",
       "| country | population | EU | capitals |\n",
       "|---|---|---|---|\n",
       "| Portugal | 10280000 |  TRUE    | Lisbon   |\n",
       "| France   | 66990000 |  TRUE    | Paris    |\n",
       "| UK       | 66650000 | FALSE    | London   |\n",
       "| Spain    | 46754778 |  TRUE    | Madrid   |\n",
       "\n"
      ],
      "text/plain": [
       "  country  population EU    capitals\n",
       "1 Portugal 10280000    TRUE Lisbon  \n",
       "2 France   66990000    TRUE Paris   \n",
       "3 UK       66650000   FALSE London  \n",
       "4 Spain    46754778    TRUE Madrid  "
      ]
     },
     "metadata": {},
     "output_type": "display_data"
    }
   ],
   "source": [
    "# add a new column with capitals of each country\n",
    "# create capitals variable as a vector\n",
    "capitals<-c('Lisbon', 'Paris', 'London', 'Madrid')\n",
    "\n",
    "# use cbind to add as a column\n",
    "cbind(countries_data, capitals)\n",
    "\n",
    "# add to the data frame permanently\n",
    "countries_data<-cbind(countries_data, capitals, stringsAsFactors = FALSE)"
   ]
  },
  {
   "cell_type": "markdown",
   "id": "79647a75",
   "metadata": {},
   "source": [
    "### Removing Elements from Data Frames"
   ]
  },
  {
   "cell_type": "code",
   "execution_count": 15,
   "id": "4e764101",
   "metadata": {},
   "outputs": [
    {
     "data": {
      "text/html": [
       "<table>\n",
       "<thead><tr><th scope=col>country</th><th scope=col>population</th><th scope=col>EU</th><th scope=col>capitals</th></tr></thead>\n",
       "<tbody>\n",
       "\t<tr><td>Portugal</td><td>10280000</td><td> TRUE   </td><td>Lisbon  </td></tr>\n",
       "\t<tr><td>France  </td><td>66990000</td><td> TRUE   </td><td>Paris   </td></tr>\n",
       "\t<tr><td>UK      </td><td>66650000</td><td>FALSE   </td><td>London  </td></tr>\n",
       "</tbody>\n",
       "</table>\n"
      ],
      "text/latex": [
       "\\begin{tabular}{r|llll}\n",
       " country & population & EU & capitals\\\\\n",
       "\\hline\n",
       "\t Portugal & 10280000 &  TRUE    & Lisbon  \\\\\n",
       "\t France   & 66990000 &  TRUE    & Paris   \\\\\n",
       "\t UK       & 66650000 & FALSE    & London  \\\\\n",
       "\\end{tabular}\n"
      ],
      "text/markdown": [
       "\n",
       "| country | population | EU | capitals |\n",
       "|---|---|---|---|\n",
       "| Portugal | 10280000 |  TRUE    | Lisbon   |\n",
       "| France   | 66990000 |  TRUE    | Paris    |\n",
       "| UK       | 66650000 | FALSE    | London   |\n",
       "\n"
      ],
      "text/plain": [
       "  country  population EU    capitals\n",
       "1 Portugal 10280000    TRUE Lisbon  \n",
       "2 France   66990000    TRUE Paris   \n",
       "3 UK       66650000   FALSE London  "
      ]
     },
     "metadata": {},
     "output_type": "display_data"
    }
   ],
   "source": [
    "# to remove rows, put - before the index\n",
    "# remove Spain, to remove perm, re-write the object\n",
    "countries_data[-4,]\n",
    "\n",
    "# remove EU column from DF\n",
    "# assign to a NULL\n",
    "# NO NEED TO RE-WRITE THE OBJ\n",
    "countries_data[,'EU']<-NULL"
   ]
  },
  {
   "cell_type": "code",
   "execution_count": null,
   "id": "31ffa5f4",
   "metadata": {},
   "outputs": [],
   "source": []
  },
  {
   "cell_type": "code",
   "execution_count": null,
   "id": "d247710c",
   "metadata": {},
   "outputs": [],
   "source": []
  },
  {
   "cell_type": "code",
   "execution_count": null,
   "id": "e14b19d7",
   "metadata": {},
   "outputs": [],
   "source": []
  },
  {
   "cell_type": "code",
   "execution_count": null,
   "id": "772a1f3d",
   "metadata": {},
   "outputs": [],
   "source": []
  },
  {
   "cell_type": "code",
   "execution_count": null,
   "id": "f47a4cdf",
   "metadata": {},
   "outputs": [],
   "source": []
  },
  {
   "cell_type": "code",
   "execution_count": null,
   "id": "7e472a8a",
   "metadata": {},
   "outputs": [],
   "source": []
  },
  {
   "cell_type": "code",
   "execution_count": null,
   "id": "72e3bfc8",
   "metadata": {},
   "outputs": [],
   "source": []
  }
 ],
 "metadata": {
  "kernelspec": {
   "display_name": "R",
   "language": "R",
   "name": "ir"
  },
  "language_info": {
   "codemirror_mode": "r",
   "file_extension": ".r",
   "mimetype": "text/x-r-source",
   "name": "R",
   "pygments_lexer": "r",
   "version": "3.6.1"
  }
 },
 "nbformat": 4,
 "nbformat_minor": 5
}
