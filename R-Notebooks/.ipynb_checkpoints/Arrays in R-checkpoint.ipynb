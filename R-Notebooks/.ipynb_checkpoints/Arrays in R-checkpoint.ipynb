{
 "cells": [
  {
   "cell_type": "markdown",
   "id": "ecd35a20",
   "metadata": {},
   "source": [
    "### Arrays\n",
    "### Arrays are R objects that are able to store data in multiple dimensions.\n",
    "#### example: ex_array <- array(data=c(1,2,3), dim=c(1,2,2))\n",
    "#### Characteristics:\n",
    "#### 1. take vectors as inputs\n",
    "#### 2. Dim argument controls the dimension\n",
    "#### 3. With c(1,2,2) we create 2 matrices with 1 row by 2 columns\n",
    "#### 4. every position in the dim corresponds to its dimension.\n",
    "#### 5. you can use dim names to name elements in the array.\n",
    "#### 6. they hold elements of the same type. !important!"
   ]
  },
  {
   "cell_type": "markdown",
   "id": "07c39a0c",
   "metadata": {},
   "source": [
    "### Creating arrays\n",
    "\n",
    "<p>Transform a vector into an array.</p>"
   ]
  },
  {
   "cell_type": "code",
   "execution_count": 2,
   "id": "ace1f8fd",
   "metadata": {},
   "outputs": [
    {
     "data": {
      "text/html": [
       "<table>\n",
       "<tbody>\n",
       "\t<tr><td>1</td><td>3</td></tr>\n",
       "\t<tr><td>2</td><td>4</td></tr>\n",
       "</tbody>\n",
       "</table>\n"
      ],
      "text/latex": [
       "\\begin{tabular}{ll}\n",
       "\t 1 & 3\\\\\n",
       "\t 2 & 4\\\\\n",
       "\\end{tabular}\n"
      ],
      "text/markdown": [
       "\n",
       "| 1 | 3 |\n",
       "| 2 | 4 |\n",
       "\n"
      ],
      "text/plain": [
       "     [,1] [,2]\n",
       "[1,] 1    3   \n",
       "[2,] 2    4   "
      ]
     },
     "metadata": {},
     "output_type": "display_data"
    }
   ],
   "source": [
    "my_vect <- 1:4\n",
    "\n",
    "my_array <- array(data=my_vect, dim=c(2,2))\n",
    "\n",
    "my_array"
   ]
  },
  {
   "cell_type": "markdown",
   "id": "614954a1",
   "metadata": {},
   "source": [
    "<p>To index on array, 1st row = 1st element of dimension. The sequence is row, column. Since we want the entire row we leave the second space after the comma blank.</p>"
   ]
  },
  {
   "cell_type": "code",
   "execution_count": 3,
   "id": "75dcab5a",
   "metadata": {},
   "outputs": [
    {
     "data": {
      "text/html": [
       "<ol class=list-inline>\n",
       "\t<li>1</li>\n",
       "\t<li>3</li>\n",
       "</ol>\n"
      ],
      "text/latex": [
       "\\begin{enumerate*}\n",
       "\\item 1\n",
       "\\item 3\n",
       "\\end{enumerate*}\n"
      ],
      "text/markdown": [
       "1. 1\n",
       "2. 3\n",
       "\n",
       "\n"
      ],
      "text/plain": [
       "[1] 1 3"
      ]
     },
     "metadata": {},
     "output_type": "display_data"
    }
   ],
   "source": [
    "my_array[1,]"
   ]
  },
  {
   "cell_type": "markdown",
   "id": "39c5559c",
   "metadata": {},
   "source": [
    "<p>Lets get the first 2nd column valus in the first row. You can see above that value = 3.</p>"
   ]
  },
  {
   "cell_type": "code",
   "execution_count": 4,
   "id": "c38e550c",
   "metadata": {},
   "outputs": [
    {
     "data": {
      "text/html": [
       "3"
      ],
      "text/latex": [
       "3"
      ],
      "text/markdown": [
       "3"
      ],
      "text/plain": [
       "[1] 3"
      ]
     },
     "metadata": {},
     "output_type": "display_data"
    }
   ],
   "source": [
    "my_array[1,2]"
   ]
  },
  {
   "cell_type": "markdown",
   "id": "e5e0eb16",
   "metadata": {},
   "source": [
    "<p>Get the 2nd row - We only change the 1st value to 2.</p>"
   ]
  },
  {
   "cell_type": "code",
   "execution_count": 6,
   "id": "54d795c4",
   "metadata": {},
   "outputs": [
    {
     "data": {
      "text/html": [
       "<ol class=list-inline>\n",
       "\t<li>2</li>\n",
       "\t<li>4</li>\n",
       "</ol>\n"
      ],
      "text/latex": [
       "\\begin{enumerate*}\n",
       "\\item 2\n",
       "\\item 4\n",
       "\\end{enumerate*}\n"
      ],
      "text/markdown": [
       "1. 2\n",
       "2. 4\n",
       "\n",
       "\n"
      ],
      "text/plain": [
       "[1] 2 4"
      ]
     },
     "metadata": {},
     "output_type": "display_data"
    }
   ],
   "source": [
    "my_array[2,]"
   ]
  },
  {
   "cell_type": "markdown",
   "id": "7a9f98fa",
   "metadata": {},
   "source": [
    "<p>Check the dimensions of the array. Thi sone is 2 by 2, represented by 2 columns and 2 rows.</p>"
   ]
  },
  {
   "cell_type": "code",
   "execution_count": 7,
   "id": "4ff1ee20",
   "metadata": {},
   "outputs": [
    {
     "data": {
      "text/html": [
       "<ol class=list-inline>\n",
       "\t<li>2</li>\n",
       "\t<li>2</li>\n",
       "</ol>\n"
      ],
      "text/latex": [
       "\\begin{enumerate*}\n",
       "\\item 2\n",
       "\\item 2\n",
       "\\end{enumerate*}\n"
      ],
      "text/markdown": [
       "1. 2\n",
       "2. 2\n",
       "\n",
       "\n"
      ],
      "text/plain": [
       "[1] 2 2"
      ]
     },
     "metadata": {},
     "output_type": "display_data"
    }
   ],
   "source": [
    "dim(my_array)"
   ]
  },
  {
   "cell_type": "markdown",
   "id": "4fff8dc9",
   "metadata": {},
   "source": [
    "###  Indexing and modifying arrays"
   ]
  },
  {
   "cell_type": "code",
   "execution_count": 9,
   "id": "62c37955",
   "metadata": {},
   "outputs": [
    {
     "data": {
      "text/html": [
       "<table>\n",
       "<tbody>\n",
       "\t<tr><td>1</td><td>5</td><td>1</td><td>5</td></tr>\n",
       "\t<tr><td>2</td><td>6</td><td>2</td><td>6</td></tr>\n",
       "\t<tr><td>3</td><td>7</td><td>3</td><td>7</td></tr>\n",
       "\t<tr><td>4</td><td>8</td><td>4</td><td>8</td></tr>\n",
       "</tbody>\n",
       "</table>\n"
      ],
      "text/latex": [
       "\\begin{tabular}{llll}\n",
       "\t 1 & 5 & 1 & 5\\\\\n",
       "\t 2 & 6 & 2 & 6\\\\\n",
       "\t 3 & 7 & 3 & 7\\\\\n",
       "\t 4 & 8 & 4 & 8\\\\\n",
       "\\end{tabular}\n"
      ],
      "text/markdown": [
       "\n",
       "| 1 | 5 | 1 | 5 |\n",
       "| 2 | 6 | 2 | 6 |\n",
       "| 3 | 7 | 3 | 7 |\n",
       "| 4 | 8 | 4 | 8 |\n",
       "\n"
      ],
      "text/plain": [
       "     [,1] [,2] [,3] [,4]\n",
       "[1,] 1    5    1    5   \n",
       "[2,] 2    6    2    6   \n",
       "[3,] 3    7    3    7   \n",
       "[4,] 4    8    4    8   "
      ]
     },
     "metadata": {},
     "output_type": "display_data"
    }
   ],
   "source": [
    "# create a new array with additional dimensions.\n",
    "# notice the array will repeat the sequence of 1-8 becaseu we are usng a 4 by 4 dim.\n",
    "my_array <- array(1:8, dim = c(4,4))\n",
    "\n",
    "my_array"
   ]
  },
  {
   "cell_type": "markdown",
   "id": "3266d3a5",
   "metadata": {},
   "source": [
    "<p>Extract 4th column, this produces all elements from the 4 dims.</p>"
   ]
  },
  {
   "cell_type": "code",
   "execution_count": 10,
   "id": "14273307",
   "metadata": {},
   "outputs": [
    {
     "data": {
      "text/html": [
       "<ol class=list-inline>\n",
       "\t<li>5</li>\n",
       "\t<li>6</li>\n",
       "\t<li>7</li>\n",
       "\t<li>8</li>\n",
       "</ol>\n"
      ],
      "text/latex": [
       "\\begin{enumerate*}\n",
       "\\item 5\n",
       "\\item 6\n",
       "\\item 7\n",
       "\\item 8\n",
       "\\end{enumerate*}\n"
      ],
      "text/markdown": [
       "1. 5\n",
       "2. 6\n",
       "3. 7\n",
       "4. 8\n",
       "\n",
       "\n"
      ],
      "text/plain": [
       "[1] 5 6 7 8"
      ]
     },
     "metadata": {},
     "output_type": "display_data"
    }
   ],
   "source": [
    "my_array[,4]"
   ]
  },
  {
   "cell_type": "markdown",
   "id": "4d66a554",
   "metadata": {},
   "source": [
    "<p>Get 2nd and 3rd elements from 3rd col</p>"
   ]
  },
  {
   "cell_type": "code",
   "execution_count": 11,
   "id": "a8c2d679",
   "metadata": {},
   "outputs": [
    {
     "data": {
      "text/html": [
       "<ol class=list-inline>\n",
       "\t<li>2</li>\n",
       "\t<li>3</li>\n",
       "</ol>\n"
      ],
      "text/latex": [
       "\\begin{enumerate*}\n",
       "\\item 2\n",
       "\\item 3\n",
       "\\end{enumerate*}\n"
      ],
      "text/markdown": [
       "1. 2\n",
       "2. 3\n",
       "\n",
       "\n"
      ],
      "text/plain": [
       "[1] 2 3"
      ]
     },
     "metadata": {},
     "output_type": "display_data"
    }
   ],
   "source": [
    "my_array[2:3,3]"
   ]
  },
  {
   "cell_type": "markdown",
   "id": "110b5831",
   "metadata": {},
   "source": [
    "<p>Get the 3rd row.</p>"
   ]
  },
  {
   "cell_type": "code",
   "execution_count": 13,
   "id": "1f399105",
   "metadata": {},
   "outputs": [
    {
     "data": {
      "text/html": [
       "<ol class=list-inline>\n",
       "\t<li>3</li>\n",
       "\t<li>7</li>\n",
       "\t<li>3</li>\n",
       "\t<li>7</li>\n",
       "</ol>\n"
      ],
      "text/latex": [
       "\\begin{enumerate*}\n",
       "\\item 3\n",
       "\\item 7\n",
       "\\item 3\n",
       "\\item 7\n",
       "\\end{enumerate*}\n"
      ],
      "text/markdown": [
       "1. 3\n",
       "2. 7\n",
       "3. 3\n",
       "4. 7\n",
       "\n",
       "\n"
      ],
      "text/plain": [
       "[1] 3 7 3 7"
      ]
     },
     "metadata": {},
     "output_type": "display_data"
    }
   ],
   "source": [
    "my_array[3,]"
   ]
  },
  {
   "cell_type": "markdown",
   "id": "844502e6",
   "metadata": {},
   "source": [
    "### Modify Elements\n",
    "\n",
    "<p>Change the column value by assigning a vector of new elements to the first column.</p>"
   ]
  },
  {
   "cell_type": "code",
   "execution_count": 14,
   "id": "a3ceddd4",
   "metadata": {},
   "outputs": [
    {
     "data": {
      "text/html": [
       "<table>\n",
       "<tbody>\n",
       "\t<tr><td>100</td><td>5  </td><td>1  </td><td>5  </td></tr>\n",
       "\t<tr><td>100</td><td>6  </td><td>2  </td><td>6  </td></tr>\n",
       "\t<tr><td>100</td><td>7  </td><td>3  </td><td>7  </td></tr>\n",
       "\t<tr><td>100</td><td>8  </td><td>4  </td><td>8  </td></tr>\n",
       "</tbody>\n",
       "</table>\n"
      ],
      "text/latex": [
       "\\begin{tabular}{llll}\n",
       "\t 100 & 5   & 1   & 5  \\\\\n",
       "\t 100 & 6   & 2   & 6  \\\\\n",
       "\t 100 & 7   & 3   & 7  \\\\\n",
       "\t 100 & 8   & 4   & 8  \\\\\n",
       "\\end{tabular}\n"
      ],
      "text/markdown": [
       "\n",
       "| 100 | 5   | 1   | 5   |\n",
       "| 100 | 6   | 2   | 6   |\n",
       "| 100 | 7   | 3   | 7   |\n",
       "| 100 | 8   | 4   | 8   |\n",
       "\n"
      ],
      "text/plain": [
       "     [,1] [,2] [,3] [,4]\n",
       "[1,] 100  5    1    5   \n",
       "[2,] 100  6    2    6   \n",
       "[3,] 100  7    3    7   \n",
       "[4,] 100  8    4    8   "
      ]
     },
     "metadata": {},
     "output_type": "display_data"
    }
   ],
   "source": [
    "my_array[,1] <- c(100, 100, 100, 100)\n",
    "\n",
    "my_array"
   ]
  },
  {
   "cell_type": "markdown",
   "id": "c171edf9",
   "metadata": {},
   "source": [
    "<p>Change the row values for the 1st 2 rows.</p>"
   ]
  },
  {
   "cell_type": "code",
   "execution_count": 15,
   "id": "f14d62dd",
   "metadata": {},
   "outputs": [
    {
     "data": {
      "text/html": [
       "<table>\n",
       "<tbody>\n",
       "\t<tr><td>1000</td><td>1000</td><td>1000</td><td>1000</td></tr>\n",
       "\t<tr><td>1000</td><td>1000</td><td>1000</td><td>1000</td></tr>\n",
       "\t<tr><td> 100</td><td>   7</td><td>   3</td><td>   7</td></tr>\n",
       "\t<tr><td> 100</td><td>   8</td><td>   4</td><td>   8</td></tr>\n",
       "</tbody>\n",
       "</table>\n"
      ],
      "text/latex": [
       "\\begin{tabular}{llll}\n",
       "\t 1000 & 1000 & 1000 & 1000\\\\\n",
       "\t 1000 & 1000 & 1000 & 1000\\\\\n",
       "\t  100 &    7 &    3 &    7\\\\\n",
       "\t  100 &    8 &    4 &    8\\\\\n",
       "\\end{tabular}\n"
      ],
      "text/markdown": [
       "\n",
       "| 1000 | 1000 | 1000 | 1000 |\n",
       "| 1000 | 1000 | 1000 | 1000 |\n",
       "|  100 |    7 |    3 |    7 |\n",
       "|  100 |    8 |    4 |    8 |\n",
       "\n"
      ],
      "text/plain": [
       "     [,1] [,2] [,3] [,4]\n",
       "[1,] 1000 1000 1000 1000\n",
       "[2,] 1000 1000 1000 1000\n",
       "[3,]  100    7    3    7\n",
       "[4,]  100    8    4    8"
      ]
     },
     "metadata": {},
     "output_type": "display_data"
    }
   ],
   "source": [
    "my_array[1:2,] <- array(c(1000, 1000, 1000, 1000, 1000, 1000, 1000, 1000), dim = c(2,4))\n",
    "\n",
    "my_array"
   ]
  },
  {
   "cell_type": "markdown",
   "id": "713c1e0f",
   "metadata": {},
   "source": [
    "### Array Operations"
   ]
  },
  {
   "cell_type": "code",
   "execution_count": 32,
   "id": "80530ae1",
   "metadata": {},
   "outputs": [
    {
     "data": {
      "text/html": [
       "<ol class=list-inline>\n",
       "\t<li>100</li>\n",
       "\t<li>100</li>\n",
       "\t<li>100</li>\n",
       "\t<li>100</li>\n",
       "\t<li>100</li>\n",
       "\t<li>100</li>\n",
       "\t<li>100</li>\n",
       "\t<li>100</li>\n",
       "\t<li>100</li>\n",
       "\t<li>100</li>\n",
       "\t<li>100</li>\n",
       "\t<li>100</li>\n",
       "\t<li>100</li>\n",
       "\t<li>100</li>\n",
       "\t<li>100</li>\n",
       "\t<li>100</li>\n",
       "\t<li>100</li>\n",
       "\t<li>100</li>\n",
       "</ol>\n"
      ],
      "text/latex": [
       "\\begin{enumerate*}\n",
       "\\item 100\n",
       "\\item 100\n",
       "\\item 100\n",
       "\\item 100\n",
       "\\item 100\n",
       "\\item 100\n",
       "\\item 100\n",
       "\\item 100\n",
       "\\item 100\n",
       "\\item 100\n",
       "\\item 100\n",
       "\\item 100\n",
       "\\item 100\n",
       "\\item 100\n",
       "\\item 100\n",
       "\\item 100\n",
       "\\item 100\n",
       "\\item 100\n",
       "\\end{enumerate*}\n"
      ],
      "text/markdown": [
       "1. 100\n",
       "2. 100\n",
       "3. 100\n",
       "4. 100\n",
       "5. 100\n",
       "6. 100\n",
       "7. 100\n",
       "8. 100\n",
       "9. 100\n",
       "10. 100\n",
       "11. 100\n",
       "12. 100\n",
       "13. 100\n",
       "14. 100\n",
       "15. 100\n",
       "16. 100\n",
       "17. 100\n",
       "18. 100\n",
       "\n",
       "\n"
      ],
      "text/plain": [
       ", , 1\n",
       "\n",
       "     [,1] [,2] [,3]\n",
       "[1,]  100  100  100\n",
       "[2,]  100  100  100\n",
       "[3,]  100  100  100\n",
       "\n",
       ", , 2\n",
       "\n",
       "     [,1] [,2] [,3]\n",
       "[1,]  100  100  100\n",
       "[2,]  100  100  100\n",
       "[3,]  100  100  100\n"
      ]
     },
     "metadata": {},
     "output_type": "display_data"
    }
   ],
   "source": [
    "my_array <- array(data = c(100, 100, 100), dim = c(3,3,2))\n",
    "\n",
    "my_array"
   ]
  },
  {
   "cell_type": "markdown",
   "id": "456e96eb",
   "metadata": {},
   "source": [
    "<p>Changes 1st array to a sq rt of 100, see the diff in 1 & 2</p>"
   ]
  },
  {
   "cell_type": "code",
   "execution_count": 33,
   "id": "e8725c6f",
   "metadata": {},
   "outputs": [
    {
     "data": {
      "text/html": [
       "<table>\n",
       "<tbody>\n",
       "\t<tr><td>10</td><td>10</td><td>10</td></tr>\n",
       "\t<tr><td>10</td><td>10</td><td>10</td></tr>\n",
       "\t<tr><td>10</td><td>10</td><td>10</td></tr>\n",
       "</tbody>\n",
       "</table>\n"
      ],
      "text/latex": [
       "\\begin{tabular}{lll}\n",
       "\t 10 & 10 & 10\\\\\n",
       "\t 10 & 10 & 10\\\\\n",
       "\t 10 & 10 & 10\\\\\n",
       "\\end{tabular}\n"
      ],
      "text/markdown": [
       "\n",
       "| 10 | 10 | 10 |\n",
       "| 10 | 10 | 10 |\n",
       "| 10 | 10 | 10 |\n",
       "\n"
      ],
      "text/plain": [
       "     [,1] [,2] [,3]\n",
       "[1,] 10   10   10  \n",
       "[2,] 10   10   10  \n",
       "[3,] 10   10   10  "
      ]
     },
     "metadata": {},
     "output_type": "display_data"
    }
   ],
   "source": [
    "# array 1\n",
    "my_array[,,1]<- sqrt(my_array[,,1])\n",
    "\n",
    "my_array[,,1]"
   ]
  },
  {
   "cell_type": "code",
   "execution_count": 34,
   "id": "cdacda27",
   "metadata": {},
   "outputs": [
    {
     "data": {
      "text/html": [
       "<table>\n",
       "<tbody>\n",
       "\t<tr><td>10 </td><td>100</td></tr>\n",
       "\t<tr><td>10 </td><td>100</td></tr>\n",
       "\t<tr><td>10 </td><td>100</td></tr>\n",
       "</tbody>\n",
       "</table>\n"
      ],
      "text/latex": [
       "\\begin{tabular}{ll}\n",
       "\t 10  & 100\\\\\n",
       "\t 10  & 100\\\\\n",
       "\t 10  & 100\\\\\n",
       "\\end{tabular}\n"
      ],
      "text/markdown": [
       "\n",
       "| 10  | 100 |\n",
       "| 10  | 100 |\n",
       "| 10  | 100 |\n",
       "\n"
      ],
      "text/plain": [
       "     [,1] [,2]\n",
       "[1,] 10   100 \n",
       "[2,] 10   100 \n",
       "[3,] 10   100 "
      ]
     },
     "metadata": {},
     "output_type": "display_data"
    }
   ],
   "source": [
    "# array 2\n",
    "my_array[,2,]"
   ]
  },
  {
   "cell_type": "markdown",
   "id": "8fb538bb",
   "metadata": {},
   "source": [
    "<p>Apply a power to the 2nd element of both objects</p>"
   ]
  },
  {
   "cell_type": "code",
   "execution_count": 35,
   "id": "e9004a71",
   "metadata": {},
   "outputs": [
    {
     "data": {
      "text/html": [
       "<table>\n",
       "<tbody>\n",
       "\t<tr><td>10 </td><td>100</td></tr>\n",
       "\t<tr><td>10 </td><td>100</td></tr>\n",
       "\t<tr><td>10 </td><td>100</td></tr>\n",
       "</tbody>\n",
       "</table>\n"
      ],
      "text/latex": [
       "\\begin{tabular}{ll}\n",
       "\t 10  & 100\\\\\n",
       "\t 10  & 100\\\\\n",
       "\t 10  & 100\\\\\n",
       "\\end{tabular}\n"
      ],
      "text/markdown": [
       "\n",
       "| 10  | 100 |\n",
       "| 10  | 100 |\n",
       "| 10  | 100 |\n",
       "\n"
      ],
      "text/plain": [
       "     [,1] [,2]\n",
       "[1,] 10   100 \n",
       "[2,] 10   100 \n",
       "[3,] 10   100 "
      ]
     },
     "metadata": {},
     "output_type": "display_data"
    },
    {
     "data": {
      "text/html": [
       "<table>\n",
       "<tbody>\n",
       "\t<tr><td>100  </td><td>10000</td></tr>\n",
       "\t<tr><td>100  </td><td>10000</td></tr>\n",
       "\t<tr><td>100  </td><td>10000</td></tr>\n",
       "</tbody>\n",
       "</table>\n"
      ],
      "text/latex": [
       "\\begin{tabular}{ll}\n",
       "\t 100   & 10000\\\\\n",
       "\t 100   & 10000\\\\\n",
       "\t 100   & 10000\\\\\n",
       "\\end{tabular}\n"
      ],
      "text/markdown": [
       "\n",
       "| 100   | 10000 |\n",
       "| 100   | 10000 |\n",
       "| 100   | 10000 |\n",
       "\n"
      ],
      "text/plain": [
       "     [,1] [,2] \n",
       "[1,] 100  10000\n",
       "[2,] 100  10000\n",
       "[3,] 100  10000"
      ]
     },
     "metadata": {},
     "output_type": "display_data"
    }
   ],
   "source": [
    "my_array[,2,]<-my_array[,2,]**2\n",
    "\n",
    "my_array[,1,]\n",
    "my_array[,2,]"
   ]
  },
  {
   "cell_type": "code",
   "execution_count": 36,
   "id": "32bb5958",
   "metadata": {},
   "outputs": [
    {
     "data": {
      "text/html": [
       "100"
      ],
      "text/latex": [
       "100"
      ],
      "text/markdown": [
       "100"
      ],
      "text/plain": [
       "[1] 100"
      ]
     },
     "metadata": {},
     "output_type": "display_data"
    },
    {
     "data": {
      "text/html": [
       "<ol class=list-inline>\n",
       "\t<li>10</li>\n",
       "\t<li>10</li>\n",
       "\t<li>10</li>\n",
       "\t<li>100</li>\n",
       "\t<li>100</li>\n",
       "\t<li>100</li>\n",
       "\t<li>10</li>\n",
       "\t<li>10</li>\n",
       "\t<li>10</li>\n",
       "\t<li>100</li>\n",
       "\t<li>100</li>\n",
       "\t<li>100</li>\n",
       "\t<li>10000</li>\n",
       "\t<li>10000</li>\n",
       "\t<li>10000</li>\n",
       "\t<li>20</li>\n",
       "\t<li>100</li>\n",
       "\t<li>100</li>\n",
       "</ol>\n"
      ],
      "text/latex": [
       "\\begin{enumerate*}\n",
       "\\item 10\n",
       "\\item 10\n",
       "\\item 10\n",
       "\\item 100\n",
       "\\item 100\n",
       "\\item 100\n",
       "\\item 10\n",
       "\\item 10\n",
       "\\item 10\n",
       "\\item 100\n",
       "\\item 100\n",
       "\\item 100\n",
       "\\item 10000\n",
       "\\item 10000\n",
       "\\item 10000\n",
       "\\item 20\n",
       "\\item 100\n",
       "\\item 100\n",
       "\\end{enumerate*}\n"
      ],
      "text/markdown": [
       "1. 10\n",
       "2. 10\n",
       "3. 10\n",
       "4. 100\n",
       "5. 100\n",
       "6. 100\n",
       "7. 10\n",
       "8. 10\n",
       "9. 10\n",
       "10. 100\n",
       "11. 100\n",
       "12. 100\n",
       "13. 10000\n",
       "14. 10000\n",
       "15. 10000\n",
       "16. 20\n",
       "17. 100\n",
       "18. 100\n",
       "\n",
       "\n"
      ],
      "text/plain": [
       ", , 1\n",
       "\n",
       "     [,1] [,2] [,3]\n",
       "[1,]   10  100   10\n",
       "[2,]   10  100   10\n",
       "[3,]   10  100   10\n",
       "\n",
       ", , 2\n",
       "\n",
       "     [,1]  [,2] [,3]\n",
       "[1,]  100 10000   20\n",
       "[2,]  100 10000  100\n",
       "[3,]  100 10000  100\n"
      ]
     },
     "metadata": {},
     "output_type": "display_data"
    }
   ],
   "source": [
    "# change one specific element by dividing by 5\n",
    "# 1st dim, 3rd col, 2nd array\n",
    "my_array[1,3,2]\n",
    "\n",
    "\n",
    "my_array[1,3,2]<-my_array[1,3,2]/5\n",
    "\n",
    "my_array "
   ]
  },
  {
   "cell_type": "markdown",
   "id": "bd37a7c9",
   "metadata": {},
   "source": [
    "### Dim names property\n",
    "\n",
    "<p>Add names as index to grab data.</p>"
   ]
  },
  {
   "cell_type": "code",
   "execution_count": 37,
   "id": "20b16f5a",
   "metadata": {},
   "outputs": [
    {
     "data": {
      "text/html": [
       "<ol class=list-inline>\n",
       "\t<li>200</li>\n",
       "\t<li>200</li>\n",
       "\t<li>300</li>\n",
       "\t<li>340</li>\n",
       "\t<li>230</li>\n",
       "\t<li>120</li>\n",
       "\t<li>540</li>\n",
       "\t<li>400</li>\n",
       "</ol>\n"
      ],
      "text/latex": [
       "\\begin{enumerate*}\n",
       "\\item 200\n",
       "\\item 200\n",
       "\\item 300\n",
       "\\item 340\n",
       "\\item 230\n",
       "\\item 120\n",
       "\\item 540\n",
       "\\item 400\n",
       "\\end{enumerate*}\n"
      ],
      "text/markdown": [
       "1. 200\n",
       "2. 200\n",
       "3. 300\n",
       "4. 340\n",
       "5. 230\n",
       "6. 120\n",
       "7. 540\n",
       "8. 400\n",
       "\n",
       "\n"
      ],
      "text/plain": [
       ", , 2018\n",
       "\n",
       "         Population GDP\n",
       "Portugal        200 300\n",
       "UK              200 340\n",
       "\n",
       ", , 2019\n",
       "\n",
       "         Population GDP\n",
       "Portugal        230 540\n",
       "UK              120 400\n"
      ]
     },
     "metadata": {},
     "output_type": "display_data"
    }
   ],
   "source": [
    "countries_data<-array(c(200,200,300,340,230,120,540,400), \n",
    "                      dim=c(2,2,2), dimnames = list(c('Portugal', 'UK'), \n",
    "                                                    c('Population', 'GDP'),\n",
    "                                                    c('2018', '2019')))\n",
    "countries_data"
   ]
  },
  {
   "cell_type": "code",
   "execution_count": 38,
   "id": "c6a9fd85",
   "metadata": {},
   "outputs": [
    {
     "data": {
      "text/html": [
       "230"
      ],
      "text/latex": [
       "230"
      ],
      "text/markdown": [
       "230"
      ],
      "text/plain": [
       "[1] 230"
      ]
     },
     "metadata": {},
     "output_type": "display_data"
    }
   ],
   "source": [
    "# we can use the names as indexes\n",
    "countries_data['Portugal', 'Population', '2019']"
   ]
  },
  {
   "cell_type": "code",
   "execution_count": 39,
   "id": "4061e297",
   "metadata": {},
   "outputs": [
    {
     "data": {
      "text/html": [
       "<dl class=dl-horizontal>\n",
       "\t<dt>2018</dt>\n",
       "\t\t<dd>200</dd>\n",
       "\t<dt>2019</dt>\n",
       "\t\t<dd>230</dd>\n",
       "</dl>\n"
      ],
      "text/latex": [
       "\\begin{description*}\n",
       "\\item[2018] 200\n",
       "\\item[2019] 230\n",
       "\\end{description*}\n"
      ],
      "text/markdown": [
       "2018\n",
       ":   2002019\n",
       ":   230\n",
       "\n"
      ],
      "text/plain": [
       "2018 2019 \n",
       " 200  230 "
      ]
     },
     "metadata": {},
     "output_type": "display_data"
    }
   ],
   "source": [
    "# get both years by adding a vector\n",
    "countries_data['Portugal', 'Population', c('2018', '2019')]"
   ]
  },
  {
   "cell_type": "code",
   "execution_count": 41,
   "id": "c37b66e6",
   "metadata": {},
   "outputs": [
    {
     "data": {
      "text/html": [
       "<ol class=list-inline>\n",
       "\t<li>200</li>\n",
       "\t<li>200</li>\n",
       "\t<li>300</li>\n",
       "\t<li>340</li>\n",
       "\t<li>230</li>\n",
       "\t<li>120</li>\n",
       "\t<li>540</li>\n",
       "\t<li>400</li>\n",
       "</ol>\n"
      ],
      "text/latex": [
       "\\begin{enumerate*}\n",
       "\\item 200\n",
       "\\item 200\n",
       "\\item 300\n",
       "\\item 340\n",
       "\\item 230\n",
       "\\item 120\n",
       "\\item 540\n",
       "\\item 400\n",
       "\\end{enumerate*}\n"
      ],
      "text/markdown": [
       "1. 200\n",
       "2. 200\n",
       "3. 300\n",
       "4. 340\n",
       "5. 230\n",
       "6. 120\n",
       "7. 540\n",
       "8. 400\n",
       "\n",
       "\n"
      ],
      "text/plain": [
       ", , 2018\n",
       "\n",
       "         Population GDP\n",
       "Portugal        200 300\n",
       "Spain           200 340\n",
       "\n",
       ", , 2019\n",
       "\n",
       "         Population GDP\n",
       "Portugal        230 540\n",
       "Spain           120 400\n"
      ]
     },
     "metadata": {},
     "output_type": "display_data"
    }
   ],
   "source": [
    "# change a dimname\n",
    "dimnames(countries_data)[[1]]<-c('Portugal', 'Spain')\n",
    "\n",
    "countries_data"
   ]
  },
  {
   "cell_type": "code",
   "execution_count": 42,
   "id": "ebcf1b3e",
   "metadata": {},
   "outputs": [
    {
     "data": {
      "text/html": [
       "2"
      ],
      "text/latex": [
       "2"
      ],
      "text/markdown": [
       "2"
      ],
      "text/plain": [
       "[1] 2"
      ]
     },
     "metadata": {},
     "output_type": "display_data"
    }
   ],
   "source": [
    "# get the number of rows using nrows\n",
    "nrow(countries_data)"
   ]
  },
  {
   "cell_type": "code",
   "execution_count": 43,
   "id": "be527400",
   "metadata": {},
   "outputs": [
    {
     "data": {
      "text/html": [
       "2"
      ],
      "text/latex": [
       "2"
      ],
      "text/markdown": [
       "2"
      ],
      "text/plain": [
       "[1] 2"
      ]
     },
     "metadata": {},
     "output_type": "display_data"
    }
   ],
   "source": [
    "# get no of cols\n",
    "ncol(countries_data)"
   ]
  },
  {
   "cell_type": "markdown",
   "id": "5117b20e",
   "metadata": {},
   "source": [
    "### Combining Arrays"
   ]
  },
  {
   "cell_type": "code",
   "execution_count": 44,
   "id": "952a9d44",
   "metadata": {},
   "outputs": [
    {
     "data": {
      "text/html": [
       "<table>\n",
       "<tbody>\n",
       "\t<tr><td>1</td><td>3</td></tr>\n",
       "\t<tr><td>2</td><td>4</td></tr>\n",
       "</tbody>\n",
       "</table>\n"
      ],
      "text/latex": [
       "\\begin{tabular}{ll}\n",
       "\t 1 & 3\\\\\n",
       "\t 2 & 4\\\\\n",
       "\\end{tabular}\n"
      ],
      "text/markdown": [
       "\n",
       "| 1 | 3 |\n",
       "| 2 | 4 |\n",
       "\n"
      ],
      "text/plain": [
       "     [,1] [,2]\n",
       "[1,] 1    3   \n",
       "[2,] 2    4   "
      ]
     },
     "metadata": {},
     "output_type": "display_data"
    }
   ],
   "source": [
    "# rows or cols\n",
    "my_array_1<-array(c(1:4), dim<-c(2,2))\n",
    "\n",
    "my_array_1"
   ]
  },
  {
   "cell_type": "code",
   "execution_count": 45,
   "id": "c4f0c951",
   "metadata": {},
   "outputs": [
    {
     "data": {
      "text/html": [
       "<table>\n",
       "<tbody>\n",
       "\t<tr><td>10</td><td>12</td></tr>\n",
       "\t<tr><td>11</td><td>13</td></tr>\n",
       "</tbody>\n",
       "</table>\n"
      ],
      "text/latex": [
       "\\begin{tabular}{ll}\n",
       "\t 10 & 12\\\\\n",
       "\t 11 & 13\\\\\n",
       "\\end{tabular}\n"
      ],
      "text/markdown": [
       "\n",
       "| 10 | 12 |\n",
       "| 11 | 13 |\n",
       "\n"
      ],
      "text/plain": [
       "     [,1] [,2]\n",
       "[1,] 10   12  \n",
       "[2,] 11   13  "
      ]
     },
     "metadata": {},
     "output_type": "display_data"
    }
   ],
   "source": [
    "# create another array\n",
    "my_array_2<-array(c(10:14), dim<-c(2,2))\n",
    "\n",
    "my_array_2"
   ]
  },
  {
   "cell_type": "code",
   "execution_count": 46,
   "id": "dd539262",
   "metadata": {},
   "outputs": [
    {
     "data": {
      "text/html": [
       "<table>\n",
       "<tbody>\n",
       "\t<tr><td> 1</td><td> 3</td></tr>\n",
       "\t<tr><td> 2</td><td> 4</td></tr>\n",
       "\t<tr><td>10</td><td>12</td></tr>\n",
       "\t<tr><td>11</td><td>13</td></tr>\n",
       "</tbody>\n",
       "</table>\n"
      ],
      "text/latex": [
       "\\begin{tabular}{ll}\n",
       "\t  1 &  3\\\\\n",
       "\t  2 &  4\\\\\n",
       "\t 10 & 12\\\\\n",
       "\t 11 & 13\\\\\n",
       "\\end{tabular}\n"
      ],
      "text/markdown": [
       "\n",
       "|  1 |  3 |\n",
       "|  2 |  4 |\n",
       "| 10 | 12 |\n",
       "| 11 | 13 |\n",
       "\n"
      ],
      "text/plain": [
       "     [,1] [,2]\n",
       "[1,]  1    3  \n",
       "[2,]  2    4  \n",
       "[3,] 10   12  \n",
       "[4,] 11   13  "
      ]
     },
     "metadata": {},
     "output_type": "display_data"
    }
   ],
   "source": [
    "# to append, on eon top of another-mut have the same shape!!!\n",
    "rbind(my_array_1, my_array_2)"
   ]
  },
  {
   "cell_type": "code",
   "execution_count": 47,
   "id": "c04771e2",
   "metadata": {},
   "outputs": [
    {
     "data": {
      "text/html": [
       "<table>\n",
       "<tbody>\n",
       "\t<tr><td>1 </td><td>3 </td><td>10</td><td>12</td></tr>\n",
       "\t<tr><td>2 </td><td>4 </td><td>11</td><td>13</td></tr>\n",
       "</tbody>\n",
       "</table>\n"
      ],
      "text/latex": [
       "\\begin{tabular}{llll}\n",
       "\t 1  & 3  & 10 & 12\\\\\n",
       "\t 2  & 4  & 11 & 13\\\\\n",
       "\\end{tabular}\n"
      ],
      "text/markdown": [
       "\n",
       "| 1  | 3  | 10 | 12 |\n",
       "| 2  | 4  | 11 | 13 |\n",
       "\n"
      ],
      "text/plain": [
       "     [,1] [,2] [,3] [,4]\n",
       "[1,] 1    3    10   12  \n",
       "[2,] 2    4    11   13  "
      ]
     },
     "metadata": {},
     "output_type": "display_data"
    }
   ],
   "source": [
    "#to combine side by side\n",
    "cbind(my_array_1, my_array_2)"
   ]
  },
  {
   "cell_type": "markdown",
   "id": "8623a71c",
   "metadata": {},
   "source": [
    "### Challenges:\n",
    "\n",
    "#### 1. Create an array called fourdim and feed it with the data 1:10. Your array must have 2 elements on each dimension."
   ]
  },
  {
   "cell_type": "code",
   "execution_count": null,
   "id": "428b88d8",
   "metadata": {},
   "outputs": [],
   "source": []
  },
  {
   "cell_type": "markdown",
   "id": "5593dde3",
   "metadata": {},
   "source": [
    "#### 2. Set the [2,2,2,2] element on the fourdim array to NA"
   ]
  },
  {
   "cell_type": "code",
   "execution_count": null,
   "id": "5efd5b19",
   "metadata": {},
   "outputs": [],
   "source": []
  },
  {
   "cell_type": "markdown",
   "id": "f250f1db",
   "metadata": {},
   "source": [
    "#### 3. Extract the mean of the fourdim array - pay attention to the NA's."
   ]
  },
  {
   "cell_type": "code",
   "execution_count": null,
   "id": "cf47d745",
   "metadata": {},
   "outputs": [],
   "source": []
  },
  {
   "cell_type": "markdown",
   "id": "d9aa0928",
   "metadata": {},
   "source": [
    "#### 4. Create an array called threed with three dimensions with 3 elements in the first, 2 in the second and 2 in the third. Name your first dimension as \"Stock Price\", \"Revenue\", \"Employees\", the second as \"2018\",\"2019\" and the third as \"Apple\",\"Microsoft\". Feed the array with the following data:  (155, 261, 132000,423.4, 321, 137000,105, 240, 118000,157.64, 260, 139000)\n"
   ]
  },
  {
   "cell_type": "code",
   "execution_count": null,
   "id": "50f827cc",
   "metadata": {},
   "outputs": [],
   "source": []
  },
  {
   "cell_type": "markdown",
   "id": "da0bd61d",
   "metadata": {},
   "source": [
    "#### 5. Using array indexes, compute the difference between Apple's stock price in 2019 and 2018. Store it in an object called diff_price."
   ]
  },
  {
   "cell_type": "code",
   "execution_count": null,
   "id": "f5827a51",
   "metadata": {},
   "outputs": [],
   "source": []
  },
  {
   "cell_type": "markdown",
   "id": "381e2c4a",
   "metadata": {},
   "source": [
    "#### 6. Based on the diff_price object, compute percentage difference (in decimal format, where for instance: 0.5 equals to 50%) between Apple's stock price in 2019 and 2018. Use array indexes again to find the 2018 Apple stock price in the 3-d array."
   ]
  },
  {
   "cell_type": "code",
   "execution_count": null,
   "id": "16befde8",
   "metadata": {},
   "outputs": [],
   "source": []
  },
  {
   "cell_type": "markdown",
   "id": "1fc643f6",
   "metadata": {},
   "source": [
    "#### 7. Extract all the information that you have for Apple on 3-D array. Remember, 'Apple' is on the third dimension. Store it in an object called apple."
   ]
  },
  {
   "cell_type": "code",
   "execution_count": null,
   "id": "67d70e23",
   "metadata": {},
   "outputs": [],
   "source": []
  },
  {
   "cell_type": "markdown",
   "id": "6acec20a",
   "metadata": {},
   "source": [
    "#### 8. Extract every \"Stock Price\" that we have on our array. Remember, \"Stock Price\" is on the first dimension. Store it in an object called stock_price.\n"
   ]
  },
  {
   "cell_type": "code",
   "execution_count": null,
   "id": "a8ef89a5",
   "metadata": {},
   "outputs": [],
   "source": []
  },
  {
   "cell_type": "code",
   "execution_count": null,
   "id": "972d5dbf",
   "metadata": {},
   "outputs": [],
   "source": []
  },
  {
   "cell_type": "code",
   "execution_count": null,
   "id": "658a29b5",
   "metadata": {},
   "outputs": [],
   "source": []
  }
 ],
 "metadata": {
  "kernelspec": {
   "display_name": "R",
   "language": "R",
   "name": "ir"
  },
  "language_info": {
   "codemirror_mode": "r",
   "file_extension": ".r",
   "mimetype": "text/x-r-source",
   "name": "R",
   "pygments_lexer": "r",
   "version": "3.6.1"
  }
 },
 "nbformat": 4,
 "nbformat_minor": 5
}
