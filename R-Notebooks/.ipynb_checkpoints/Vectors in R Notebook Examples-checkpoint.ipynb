{
 "cells": [
  {
   "cell_type": "markdown",
   "id": "b1293cdf",
   "metadata": {},
   "source": [
    "### Vectors\n",
    " <p>Creating a vector-object type is important, can only be one type. FOR HELP USE ? Or help()</p>"
   ]
  },
  {
   "cell_type": "code",
   "execution_count": 66,
   "id": "19448c76",
   "metadata": {},
   "outputs": [
    {
     "data": {
      "text/html": [
       "<time datetime=\"2021-10-30\">2021-10-30</time>"
      ],
      "text/latex": [
       "2021-10-30"
      ],
      "text/markdown": [
       "2021-10-30"
      ],
      "text/plain": [
       "[1] \"2021-10-30\""
      ]
     },
     "metadata": {},
     "output_type": "display_data"
    }
   ],
   "source": [
    "Last_Update <- Sys.Date()\n",
    "Last_Update"
   ]
  },
  {
   "cell_type": "code",
   "execution_count": 1,
   "id": "d19b14ee",
   "metadata": {},
   "outputs": [
    {
     "data": {
      "text/html": [
       "<ol class=list-inline>\n",
       "\t<li>10000</li>\n",
       "\t<li>20000</li>\n",
       "\t<li>4000</li>\n",
       "\t<li>3000</li>\n",
       "</ol>\n"
      ],
      "text/latex": [
       "\\begin{enumerate*}\n",
       "\\item 10000\n",
       "\\item 20000\n",
       "\\item 4000\n",
       "\\item 3000\n",
       "\\end{enumerate*}\n"
      ],
      "text/markdown": [
       "1. 10000\n",
       "2. 20000\n",
       "3. 4000\n",
       "4. 3000\n",
       "\n",
       "\n"
      ],
      "text/plain": [
       "[1] 10000 20000  4000  3000"
      ]
     },
     "metadata": {},
     "output_type": "display_data"
    },
    {
     "data": {
      "text/html": [
       "<ol class=list-inline>\n",
       "\t<li>10000</li>\n",
       "\t<li>20000</li>\n",
       "\t<li>4000</li>\n",
       "\t<li>3000</li>\n",
       "</ol>\n"
      ],
      "text/latex": [
       "\\begin{enumerate*}\n",
       "\\item 10000\n",
       "\\item 20000\n",
       "\\item 4000\n",
       "\\item 3000\n",
       "\\end{enumerate*}\n"
      ],
      "text/markdown": [
       "1. 10000\n",
       "2. 20000\n",
       "3. 4000\n",
       "4. 3000\n",
       "\n",
       "\n"
      ],
      "text/plain": [
       "[1] 10000 20000  4000  3000"
      ]
     },
     "metadata": {},
     "output_type": "display_data"
    }
   ],
   "source": [
    "# example vector, assign it to a variable!\n",
    "c(10000, 20000, 4000, 3000)\n",
    "\n",
    "# assign to a variable to use anywhere in your code\n",
    "cities_population <- c(10000, 20000, 4000, 3000)\n",
    "\n",
    "# test vector\n",
    "cities_population"
   ]
  },
  {
   "cell_type": "markdown",
   "id": "09193698",
   "metadata": {},
   "source": [
    "<p> Note: to remove the object from your environment - rm(cities_population). </p>"
   ]
  },
  {
   "cell_type": "code",
   "execution_count": null,
   "id": "248b64a7",
   "metadata": {},
   "outputs": [],
   "source": [
    "rm(cities_population)"
   ]
  },
  {
   "cell_type": "markdown",
   "id": "cc1cd5bb",
   "metadata": {},
   "source": [
    "### Indexing and slicing"
   ]
  },
  {
   "cell_type": "code",
   "execution_count": 2,
   "id": "298304ff",
   "metadata": {},
   "outputs": [
    {
     "data": {
      "text/html": [
       "1.2"
      ],
      "text/latex": [
       "1.2"
      ],
      "text/markdown": [
       "1.2"
      ],
      "text/plain": [
       "[1] 1.2"
      ]
     },
     "metadata": {},
     "output_type": "display_data"
    }
   ],
   "source": [
    "# create new numerical vector\n",
    "melons <- c(1.2, 1.4, 2.4, 3.4)\n",
    "\n",
    "# what is the weight of the 1st melon?\n",
    "# indexing starts at 1 in R, call the 1st index\n",
    "melons[1]"
   ]
  },
  {
   "cell_type": "code",
   "execution_count": 3,
   "id": "6e87a89b",
   "metadata": {},
   "outputs": [
    {
     "data": {
      "text/html": [
       "2.4"
      ],
      "text/latex": [
       "2.4"
      ],
      "text/markdown": [
       "2.4"
      ],
      "text/plain": [
       "[1] 2.4"
      ]
     },
     "metadata": {},
     "output_type": "display_data"
    }
   ],
   "source": [
    "# the 3rd?\n",
    "melons[3]"
   ]
  },
  {
   "cell_type": "code",
   "execution_count": 4,
   "id": "fb988752",
   "metadata": {},
   "outputs": [
    {
     "data": {
      "text/html": [
       "<ol class=list-inline>\n",
       "\t<li>1.4</li>\n",
       "\t<li>2.4</li>\n",
       "\t<li>3.4</li>\n",
       "</ol>\n"
      ],
      "text/latex": [
       "\\begin{enumerate*}\n",
       "\\item 1.4\n",
       "\\item 2.4\n",
       "\\item 3.4\n",
       "\\end{enumerate*}\n"
      ],
      "text/markdown": [
       "1. 1.4\n",
       "2. 2.4\n",
       "3. 3.4\n",
       "\n",
       "\n"
      ],
      "text/plain": [
       "[1] 1.4 2.4 3.4"
      ]
     },
     "metadata": {},
     "output_type": "display_data"
    }
   ],
   "source": [
    "# slice the vector (retrieve multiple objects) from 2-4\n",
    "melons[2:4]"
   ]
  },
  {
   "cell_type": "code",
   "execution_count": 5,
   "id": "22d33c88",
   "metadata": {},
   "outputs": [
    {
     "data": {
      "text/html": [
       "<ol class=list-inline>\n",
       "\t<li>1.2</li>\n",
       "\t<li>3.4</li>\n",
       "</ol>\n"
      ],
      "text/latex": [
       "\\begin{enumerate*}\n",
       "\\item 1.2\n",
       "\\item 3.4\n",
       "\\end{enumerate*}\n"
      ],
      "text/markdown": [
       "1. 1.2\n",
       "2. 3.4\n",
       "\n",
       "\n"
      ],
      "text/plain": [
       "[1] 1.2 3.4"
      ]
     },
     "metadata": {},
     "output_type": "display_data"
    }
   ],
   "source": [
    "# use a vector to serve as an index\n",
    "# allows you to call only specific elements of the vector\n",
    "# get the 1st and last from the vector\n",
    "melons[c(1,4)]\n"
   ]
  },
  {
   "cell_type": "markdown",
   "id": "cf8ff340",
   "metadata": {},
   "source": [
    "### Calculations with vectors\n",
    "\n",
    "<p>Sum function allows you to sum the entire vector.</p>"
   ]
  },
  {
   "cell_type": "code",
   "execution_count": 6,
   "id": "2729e7bf",
   "metadata": {},
   "outputs": [
    {
     "data": {
      "text/html": [
       "8.4"
      ],
      "text/latex": [
       "8.4"
      ],
      "text/markdown": [
       "8.4"
      ],
      "text/plain": [
       "[1] 8.4"
      ]
     },
     "metadata": {},
     "output_type": "display_data"
    }
   ],
   "source": [
    "sum(melons)"
   ]
  },
  {
   "cell_type": "code",
   "execution_count": 7,
   "id": "305660ef",
   "metadata": {},
   "outputs": [
    {
     "data": {
      "text/html": [
       "<ol class=list-inline>\n",
       "\t<li>2.4</li>\n",
       "\t<li>2.8</li>\n",
       "\t<li>4.8</li>\n",
       "\t<li>6.8</li>\n",
       "</ol>\n"
      ],
      "text/latex": [
       "\\begin{enumerate*}\n",
       "\\item 2.4\n",
       "\\item 2.8\n",
       "\\item 4.8\n",
       "\\item 6.8\n",
       "\\end{enumerate*}\n"
      ],
      "text/markdown": [
       "1. 2.4\n",
       "2. 2.8\n",
       "3. 4.8\n",
       "4. 6.8\n",
       "\n",
       "\n"
      ],
      "text/plain": [
       "[1] 2.4 2.8 4.8 6.8"
      ]
     },
     "metadata": {},
     "output_type": "display_data"
    }
   ],
   "source": [
    "# multiplication of vectors, * THIS MULTIPLIES BY THE ELEMENT. \n",
    "melons * 2"
   ]
  },
  {
   "cell_type": "code",
   "execution_count": 8,
   "id": "bcd65a8f",
   "metadata": {},
   "outputs": [
    {
     "data": {
      "text/html": [
       "<ol class=list-inline>\n",
       "\t<li>2.4</li>\n",
       "\t<li>6.8</li>\n",
       "</ol>\n"
      ],
      "text/latex": [
       "\\begin{enumerate*}\n",
       "\\item 2.4\n",
       "\\item 6.8\n",
       "\\end{enumerate*}\n"
      ],
      "text/markdown": [
       "1. 2.4\n",
       "2. 6.8\n",
       "\n",
       "\n"
      ],
      "text/plain": [
       "[1] 2.4 6.8"
      ]
     },
     "metadata": {},
     "output_type": "display_data"
    }
   ],
   "source": [
    "# mult specified elements of the vector\n",
    "melons[c(1,4)] * 2"
   ]
  },
  {
   "cell_type": "code",
   "execution_count": 9,
   "id": "362c7992",
   "metadata": {},
   "outputs": [
    {
     "data": {
      "text/html": [
       "<ol class=list-inline>\n",
       "\t<li>1.09544511501033</li>\n",
       "\t<li>1.18321595661992</li>\n",
       "\t<li>1.54919333848297</li>\n",
       "\t<li>1.84390889145858</li>\n",
       "</ol>\n"
      ],
      "text/latex": [
       "\\begin{enumerate*}\n",
       "\\item 1.09544511501033\n",
       "\\item 1.18321595661992\n",
       "\\item 1.54919333848297\n",
       "\\item 1.84390889145858\n",
       "\\end{enumerate*}\n"
      ],
      "text/markdown": [
       "1. 1.09544511501033\n",
       "2. 1.18321595661992\n",
       "3. 1.54919333848297\n",
       "4. 1.84390889145858\n",
       "\n",
       "\n"
      ],
      "text/plain": [
       "[1] 1.095445 1.183216 1.549193 1.843909"
      ]
     },
     "metadata": {},
     "output_type": "display_data"
    }
   ],
   "source": [
    "#sqrt\n",
    "sqrt(melons)"
   ]
  },
  {
   "cell_type": "code",
   "execution_count": 10,
   "id": "202c5db1",
   "metadata": {},
   "outputs": [
    {
     "data": {
      "text/html": [
       "<ol class=list-inline>\n",
       "\t<li>3.32011692273655</li>\n",
       "\t<li>4.05519996684467</li>\n",
       "\t<li>11.0231763806416</li>\n",
       "\t<li>29.964100047397</li>\n",
       "</ol>\n"
      ],
      "text/latex": [
       "\\begin{enumerate*}\n",
       "\\item 3.32011692273655\n",
       "\\item 4.05519996684467\n",
       "\\item 11.0231763806416\n",
       "\\item 29.964100047397\n",
       "\\end{enumerate*}\n"
      ],
      "text/markdown": [
       "1. 3.32011692273655\n",
       "2. 4.05519996684467\n",
       "3. 11.0231763806416\n",
       "4. 29.964100047397\n",
       "\n",
       "\n"
      ],
      "text/plain": [
       "[1]  3.320117  4.055200 11.023176 29.964100"
      ]
     },
     "metadata": {},
     "output_type": "display_data"
    }
   ],
   "source": [
    "# exponential\n",
    "exp(melons)"
   ]
  },
  {
   "cell_type": "code",
   "execution_count": 11,
   "id": "022a7865",
   "metadata": {},
   "outputs": [
    {
     "data": {
      "text/html": [
       "<ol class=list-inline>\n",
       "\t<li>1.44</li>\n",
       "\t<li>1.68</li>\n",
       "\t<li>3.36</li>\n",
       "\t<li>4.76</li>\n",
       "</ol>\n"
      ],
      "text/latex": [
       "\\begin{enumerate*}\n",
       "\\item 1.44\n",
       "\\item 1.68\n",
       "\\item 3.36\n",
       "\\item 4.76\n",
       "\\end{enumerate*}\n"
      ],
      "text/markdown": [
       "1. 1.44\n",
       "2. 1.68\n",
       "3. 3.36\n",
       "4. 4.76\n",
       "\n",
       "\n"
      ],
      "text/plain": [
       "[1] 1.44 1.68 3.36 4.76"
      ]
     },
     "metadata": {},
     "output_type": "display_data"
    }
   ],
   "source": [
    "# multiply the weight of melons by 20% for the 1st 2 and 40% fro the last 2\n",
    "adjusted_weight <- c(1.2, 1.2, 1.4, 1.4)\n",
    "\n",
    "melons * adjusted_weight # note vectors must be the same, length or weird stuff happens"
   ]
  },
  {
   "cell_type": "markdown",
   "id": "62eac310",
   "metadata": {},
   "source": [
    "### More functions and handling unexpected values"
   ]
  },
  {
   "cell_type": "code",
   "execution_count": 12,
   "id": "1811ef07",
   "metadata": {},
   "outputs": [
    {
     "data": {
      "text/html": [
       "2.1"
      ],
      "text/latex": [
       "2.1"
      ],
      "text/markdown": [
       "2.1"
      ],
      "text/plain": [
       "[1] 2.1"
      ]
     },
     "metadata": {},
     "output_type": "display_data"
    }
   ],
   "source": [
    "# mean value of vector 2.1\n",
    "mean(melons)"
   ]
  },
  {
   "cell_type": "code",
   "execution_count": 13,
   "id": "2d721197",
   "metadata": {},
   "outputs": [
    {
     "data": {
      "text/html": [
       "1.9"
      ],
      "text/latex": [
       "1.9"
      ],
      "text/markdown": [
       "1.9"
      ],
      "text/plain": [
       "[1] 1.9"
      ]
     },
     "metadata": {},
     "output_type": "display_data"
    }
   ],
   "source": [
    "# median - 1.9 \n",
    "median(melons)"
   ]
  },
  {
   "cell_type": "code",
   "execution_count": 14,
   "id": "e0e7451c",
   "metadata": {},
   "outputs": [
    {
     "data": {
      "text/html": [
       "1.01324561023804"
      ],
      "text/latex": [
       "1.01324561023804"
      ],
      "text/markdown": [
       "1.01324561023804"
      ],
      "text/plain": [
       "[1] 1.013246"
      ]
     },
     "metadata": {},
     "output_type": "display_data"
    }
   ],
   "source": [
    "# standard deviation - 1.013246\n",
    "sd(melons)"
   ]
  },
  {
   "cell_type": "code",
   "execution_count": 15,
   "id": "fbd579f0",
   "metadata": {},
   "outputs": [
    {
     "data": {
      "text/html": [
       "4"
      ],
      "text/latex": [
       "4"
      ],
      "text/markdown": [
       "4"
      ],
      "text/plain": [
       "[1] 4"
      ]
     },
     "metadata": {},
     "output_type": "display_data"
    }
   ],
   "source": [
    "# length - 4 \n",
    "length(melons)"
   ]
  },
  {
   "cell_type": "markdown",
   "id": "dacdbc13",
   "metadata": {},
   "source": [
    "#### Sorting - asc is default, use decreasing=TRUE for descending order"
   ]
  },
  {
   "cell_type": "code",
   "execution_count": 16,
   "id": "f883919e",
   "metadata": {},
   "outputs": [
    {
     "data": {
      "text/html": [
       "<ol class=list-inline>\n",
       "\t<li>3.4</li>\n",
       "\t<li>2.4</li>\n",
       "\t<li>1.4</li>\n",
       "\t<li>1.2</li>\n",
       "</ol>\n"
      ],
      "text/latex": [
       "\\begin{enumerate*}\n",
       "\\item 3.4\n",
       "\\item 2.4\n",
       "\\item 1.4\n",
       "\\item 1.2\n",
       "\\end{enumerate*}\n"
      ],
      "text/markdown": [
       "1. 3.4\n",
       "2. 2.4\n",
       "3. 1.4\n",
       "4. 1.2\n",
       "\n",
       "\n"
      ],
      "text/plain": [
       "[1] 3.4 2.4 1.4 1.2"
      ]
     },
     "metadata": {},
     "output_type": "display_data"
    }
   ],
   "source": [
    "sort(melons, decreasing = TRUE)"
   ]
  },
  {
   "cell_type": "markdown",
   "id": "0f8d17d2",
   "metadata": {},
   "source": [
    "#### Dealing with NA"
   ]
  },
  {
   "cell_type": "code",
   "execution_count": 17,
   "id": "8ce5ee53",
   "metadata": {},
   "outputs": [],
   "source": [
    "new_melons <- c(1.2, 1.4, 2.4, 3.4, NA)"
   ]
  },
  {
   "cell_type": "code",
   "execution_count": 18,
   "id": "2b88a4b1",
   "metadata": {},
   "outputs": [
    {
     "data": {
      "text/html": [
       "8.4"
      ],
      "text/latex": [
       "8.4"
      ],
      "text/markdown": [
       "8.4"
      ],
      "text/plain": [
       "[1] 8.4"
      ]
     },
     "metadata": {},
     "output_type": "display_data"
    }
   ],
   "source": [
    "# the NA will inhibit your calculation and make it unavailable\n",
    "# how do we clean it? na.rm=TRUE, means: to remove NA\n",
    "# -- 8.4 is the output\n",
    "sum(new_melons, na.rm=TRUE)"
   ]
  },
  {
   "cell_type": "code",
   "execution_count": 21,
   "id": "bb16ad45",
   "metadata": {},
   "outputs": [
    {
     "data": {
      "text/html": [
       "NaN"
      ],
      "text/latex": [
       "NaN"
      ],
      "text/markdown": [
       "NaN"
      ],
      "text/plain": [
       "[1] NaN"
      ]
     },
     "metadata": {},
     "output_type": "display_data"
    }
   ],
   "source": [
    "# lets see about NaN\n",
    "new_melons <- c(1.2, 1.4, 2.4, 3.4, NaN)\n",
    "\n",
    "sum(new_melons) # returns NaN rather than the sum"
   ]
  },
  {
   "cell_type": "code",
   "execution_count": 22,
   "id": "f8966611",
   "metadata": {},
   "outputs": [
    {
     "data": {
      "text/html": [
       "8.4"
      ],
      "text/latex": [
       "8.4"
      ],
      "text/markdown": [
       "8.4"
      ],
      "text/plain": [
       "[1] 8.4"
      ]
     },
     "metadata": {},
     "output_type": "display_data"
    }
   ],
   "source": [
    "# how to overcome this? na.rm=TRUE\n",
    "sum(new_melons, na.rm=TRUE)  #returns sum of 8.4"
   ]
  },
  {
   "cell_type": "markdown",
   "id": "6018b011",
   "metadata": {},
   "source": [
    "### Comparison operators"
   ]
  },
  {
   "cell_type": "code",
   "execution_count": 23,
   "id": "3cfd5376",
   "metadata": {},
   "outputs": [
    {
     "data": {
      "text/html": [
       "<ol class=list-inline>\n",
       "\t<li>FALSE</li>\n",
       "\t<li>FALSE</li>\n",
       "\t<li>TRUE</li>\n",
       "\t<li>TRUE</li>\n",
       "</ol>\n"
      ],
      "text/latex": [
       "\\begin{enumerate*}\n",
       "\\item FALSE\n",
       "\\item FALSE\n",
       "\\item TRUE\n",
       "\\item TRUE\n",
       "\\end{enumerate*}\n"
      ],
      "text/markdown": [
       "1. FALSE\n",
       "2. FALSE\n",
       "3. TRUE\n",
       "4. TRUE\n",
       "\n",
       "\n"
      ],
      "text/plain": [
       "[1] FALSE FALSE  TRUE  TRUE"
      ]
     },
     "metadata": {},
     "output_type": "display_data"
    }
   ],
   "source": [
    "# what elements are over 2 kg?\n",
    "# using melons vector\n",
    "melons > 2  # returns logical vector-FALSE FALSE  TRUE  TRUE but we want the actual values.\n"
   ]
  },
  {
   "cell_type": "code",
   "execution_count": 24,
   "id": "94366f40",
   "metadata": {},
   "outputs": [
    {
     "data": {
      "text/html": [
       "<ol class=list-inline>\n",
       "\t<li>2.4</li>\n",
       "\t<li>3.4</li>\n",
       "</ol>\n"
      ],
      "text/latex": [
       "\\begin{enumerate*}\n",
       "\\item 2.4\n",
       "\\item 3.4\n",
       "\\end{enumerate*}\n"
      ],
      "text/markdown": [
       "1. 2.4\n",
       "2. 3.4\n",
       "\n",
       "\n"
      ],
      "text/plain": [
       "[1] 2.4 3.4"
      ]
     },
     "metadata": {},
     "output_type": "display_data"
    }
   ],
   "source": [
    "# extract the actual values\n",
    "melons[melons > 2] # returns - 2.4 3.4"
   ]
  },
  {
   "cell_type": "code",
   "execution_count": 25,
   "id": "103989aa",
   "metadata": {},
   "outputs": [
    {
     "data": {
      "text/html": [
       "<ol class=list-inline>\n",
       "\t<li>FALSE</li>\n",
       "\t<li>TRUE</li>\n",
       "\t<li>FALSE</li>\n",
       "\t<li>FALSE</li>\n",
       "</ol>\n"
      ],
      "text/latex": [
       "\\begin{enumerate*}\n",
       "\\item FALSE\n",
       "\\item TRUE\n",
       "\\item FALSE\n",
       "\\item FALSE\n",
       "\\end{enumerate*}\n"
      ],
      "text/markdown": [
       "1. FALSE\n",
       "2. TRUE\n",
       "3. FALSE\n",
       "4. FALSE\n",
       "\n",
       "\n"
      ],
      "text/plain": [
       "[1] FALSE  TRUE FALSE FALSE"
      ]
     },
     "metadata": {},
     "output_type": "display_data"
    },
    {
     "data": {
      "text/html": [
       "<ol class=list-inline>\n",
       "\t<li>TRUE</li>\n",
       "\t<li>FALSE</li>\n",
       "\t<li>TRUE</li>\n",
       "\t<li>TRUE</li>\n",
       "</ol>\n"
      ],
      "text/latex": [
       "\\begin{enumerate*}\n",
       "\\item TRUE\n",
       "\\item FALSE\n",
       "\\item TRUE\n",
       "\\item TRUE\n",
       "\\end{enumerate*}\n"
      ],
      "text/markdown": [
       "1. TRUE\n",
       "2. FALSE\n",
       "3. TRUE\n",
       "4. TRUE\n",
       "\n",
       "\n"
      ],
      "text/plain": [
       "[1]  TRUE FALSE  TRUE  TRUE"
      ]
     },
     "metadata": {},
     "output_type": "display_data"
    }
   ],
   "source": [
    "# equality\n",
    "melons == 1.4 # returns logical vector\n",
    "\n",
    "# not equal\n",
    "melons != 1.4 # returns logical vector"
   ]
  },
  {
   "cell_type": "code",
   "execution_count": 26,
   "id": "17e14f79",
   "metadata": {},
   "outputs": [
    {
     "data": {
      "text/html": [
       "1.4"
      ],
      "text/latex": [
       "1.4"
      ],
      "text/markdown": [
       "1.4"
      ],
      "text/plain": [
       "[1] 1.4"
      ]
     },
     "metadata": {},
     "output_type": "display_data"
    },
    {
     "data": {
      "text/html": [
       "<ol class=list-inline>\n",
       "\t<li>1.2</li>\n",
       "\t<li>2.4</li>\n",
       "\t<li>3.4</li>\n",
       "</ol>\n"
      ],
      "text/latex": [
       "\\begin{enumerate*}\n",
       "\\item 1.2\n",
       "\\item 2.4\n",
       "\\item 3.4\n",
       "\\end{enumerate*}\n"
      ],
      "text/markdown": [
       "1. 1.2\n",
       "2. 2.4\n",
       "3. 3.4\n",
       "\n",
       "\n"
      ],
      "text/plain": [
       "[1] 1.2 2.4 3.4"
      ]
     },
     "metadata": {},
     "output_type": "display_data"
    }
   ],
   "source": [
    "# get actual elements\n",
    "melons[melons == 1.4] # returns only 1 in position 2\n",
    "\n",
    "melons[melons != 1.4] # returns 1.2 2.4 3.4"
   ]
  },
  {
   "cell_type": "markdown",
   "id": "b859bb32",
   "metadata": {},
   "source": [
    "### Vector names property\n",
    "<p>Assign names to properties of vectors.</p>"
   ]
  },
  {
   "cell_type": "code",
   "execution_count": 27,
   "id": "6372794f",
   "metadata": {},
   "outputs": [
    {
     "data": {
      "text/html": [
       "<strong>France:</strong> 67020000"
      ],
      "text/latex": [
       "\\textbf{France:} 67020000"
      ],
      "text/markdown": [
       "**France:** 67020000"
      ],
      "text/plain": [
       "  France \n",
       "67020000 "
      ]
     },
     "metadata": {},
     "output_type": "display_data"
    }
   ],
   "source": [
    "countries <- c(10276617, 675455757, 67020000)\n",
    "\n",
    "# assign countries names to go with populations\n",
    "names(countries) <- c('Portugal', 'United Kingdom', 'France')\n",
    "\n",
    "# we get a named numeric property which allows us to index by name\n",
    "countries['France'] # returns the population in position 3"
   ]
  },
  {
   "cell_type": "code",
   "execution_count": 28,
   "id": "580a990b",
   "metadata": {
    "scrolled": true
   },
   "outputs": [
    {
     "data": {
      "text/html": [
       "<dl class=dl-horizontal>\n",
       "\t<dt>Portugal</dt>\n",
       "\t\t<dd>10276617</dd>\n",
       "\t<dt>France</dt>\n",
       "\t\t<dd>67020000</dd>\n",
       "</dl>\n"
      ],
      "text/latex": [
       "\\begin{description*}\n",
       "\\item[Portugal] 10276617\n",
       "\\item[France] 67020000\n",
       "\\end{description*}\n"
      ],
      "text/markdown": [
       "Portugal\n",
       ":   10276617France\n",
       ":   67020000\n",
       "\n"
      ],
      "text/plain": [
       "Portugal   France \n",
       "10276617 67020000 "
      ]
     },
     "metadata": {},
     "output_type": "display_data"
    }
   ],
   "source": [
    "# select multiple countries, must use a new vector bc it 1d\n",
    "countries[c('Portugal', 'France')]"
   ]
  },
  {
   "cell_type": "code",
   "execution_count": 29,
   "id": "916740ef",
   "metadata": {},
   "outputs": [
    {
     "data": {
      "text/html": [
       "<dl class=dl-horizontal>\n",
       "\t<dt>United Kingdom</dt>\n",
       "\t\t<dd>2</dd>\n",
       "\t<dt>France</dt>\n",
       "\t\t<dd>3</dd>\n",
       "</dl>\n"
      ],
      "text/latex": [
       "\\begin{description*}\n",
       "\\item[United Kingdom] 2\n",
       "\\item[France] 3\n",
       "\\end{description*}\n"
      ],
      "text/markdown": [
       "United Kingdom\n",
       ":   2France\n",
       ":   3\n",
       "\n"
      ],
      "text/plain": [
       "United Kingdom         France \n",
       "             2              3 "
      ]
     },
     "metadata": {},
     "output_type": "display_data"
    }
   ],
   "source": [
    "# apply the which() command\n",
    "which(countries > 20000000)"
   ]
  },
  {
   "cell_type": "code",
   "execution_count": 30,
   "id": "a4bd42a5",
   "metadata": {},
   "outputs": [
    {
     "data": {
      "text/html": [
       "<ol class=list-inline>\n",
       "\t<li>'United Kingdom'</li>\n",
       "\t<li>'France'</li>\n",
       "</ol>\n"
      ],
      "text/latex": [
       "\\begin{enumerate*}\n",
       "\\item 'United Kingdom'\n",
       "\\item 'France'\n",
       "\\end{enumerate*}\n"
      ],
      "text/markdown": [
       "1. 'United Kingdom'\n",
       "2. 'France'\n",
       "\n",
       "\n"
      ],
      "text/plain": [
       "[1] \"United Kingdom\" \"France\"        "
      ]
     },
     "metadata": {},
     "output_type": "display_data"
    }
   ],
   "source": [
    "# to only return the names\n",
    "names(which(countries > 20000000))"
   ]
  },
  {
   "cell_type": "markdown",
   "id": "f3ff4dcc",
   "metadata": {},
   "source": [
    "### Modifying vector elements"
   ]
  },
  {
   "cell_type": "code",
   "execution_count": 32,
   "id": "b15858c6",
   "metadata": {},
   "outputs": [
    {
     "data": {
      "text/html": [
       "<ol class=list-inline>\n",
       "\t<li>2</li>\n",
       "\t<li>1.4</li>\n",
       "\t<li>2.4</li>\n",
       "\t<li>3.4</li>\n",
       "</ol>\n"
      ],
      "text/latex": [
       "\\begin{enumerate*}\n",
       "\\item 2\n",
       "\\item 1.4\n",
       "\\item 2.4\n",
       "\\item 3.4\n",
       "\\end{enumerate*}\n"
      ],
      "text/markdown": [
       "1. 2\n",
       "2. 1.4\n",
       "3. 2.4\n",
       "4. 3.4\n",
       "\n",
       "\n"
      ],
      "text/plain": [
       "[1] 2.0 1.4 2.4 3.4"
      ]
     },
     "metadata": {},
     "output_type": "display_data"
    }
   ],
   "source": [
    "melons <- c(1.2, 1.4, 2.4, 3.4)\n",
    "\n",
    "# change the 1st position to 2\n",
    "melons[1] <- 2\n",
    "\n",
    "melons"
   ]
  },
  {
   "cell_type": "code",
   "execution_count": 33,
   "id": "0e0ca262",
   "metadata": {},
   "outputs": [
    {
     "data": {
      "text/html": [
       "<ol class=list-inline>\n",
       "\t<li>2</li>\n",
       "\t<li>3</li>\n",
       "\t<li>4</li>\n",
       "\t<li>5</li>\n",
       "</ol>\n"
      ],
      "text/latex": [
       "\\begin{enumerate*}\n",
       "\\item 2\n",
       "\\item 3\n",
       "\\item 4\n",
       "\\item 5\n",
       "\\end{enumerate*}\n"
      ],
      "text/markdown": [
       "1. 2\n",
       "2. 3\n",
       "3. 4\n",
       "4. 5\n",
       "\n",
       "\n"
      ],
      "text/plain": [
       "[1] 2 3 4 5"
      ]
     },
     "metadata": {},
     "output_type": "display_data"
    }
   ],
   "source": [
    "# change multiple positions\n",
    "melons[2:4] <- c(3,4,5)\n",
    "\n",
    "melons"
   ]
  },
  {
   "cell_type": "code",
   "execution_count": 35,
   "id": "4d3b6067",
   "metadata": {},
   "outputs": [
    {
     "data": {
      "text/html": [
       "<ol class=list-inline>\n",
       "\t<li>2</li>\n",
       "\t<li>3</li>\n",
       "\t<li>4</li>\n",
       "\t<li>5</li>\n",
       "\t<li>10</li>\n",
       "</ol>\n"
      ],
      "text/latex": [
       "\\begin{enumerate*}\n",
       "\\item 2\n",
       "\\item 3\n",
       "\\item 4\n",
       "\\item 5\n",
       "\\item 10\n",
       "\\end{enumerate*}\n"
      ],
      "text/markdown": [
       "1. 2\n",
       "2. 3\n",
       "3. 4\n",
       "4. 5\n",
       "5. 10\n",
       "\n",
       "\n"
      ],
      "text/plain": [
       "[1]  2  3  4  5 10"
      ]
     },
     "metadata": {},
     "output_type": "display_data"
    }
   ],
   "source": [
    "# add elements to the vector- just assign a value\n",
    "# the 5th position doesn't exist so we add it in an assignment\n",
    "# the vector has 4 elements but we are making it 5\n",
    "melons[5] <- 10\n",
    "\n",
    "melons"
   ]
  },
  {
   "cell_type": "code",
   "execution_count": 37,
   "id": "57b439e7",
   "metadata": {},
   "outputs": [
    {
     "data": {
      "text/html": [
       "<ol class=list-inline>\n",
       "\t<li>2</li>\n",
       "\t<li>2</li>\n",
       "\t<li>2.4</li>\n",
       "\t<li>3.4</li>\n",
       "\t<li>2</li>\n",
       "</ol>\n"
      ],
      "text/latex": [
       "\\begin{enumerate*}\n",
       "\\item 2\n",
       "\\item 2\n",
       "\\item 2.4\n",
       "\\item 3.4\n",
       "\\item 2\n",
       "\\end{enumerate*}\n"
      ],
      "text/markdown": [
       "1. 2\n",
       "2. 2\n",
       "3. 2.4\n",
       "4. 3.4\n",
       "5. 2\n",
       "\n",
       "\n"
      ],
      "text/plain": [
       "[1] 2.0 2.0 2.4 3.4 2.0"
      ]
     },
     "metadata": {},
     "output_type": "display_data"
    }
   ],
   "source": [
    "# change multiple elements based on a condition \n",
    "melons <- c(1.2, 1.4, 2.4, 3.4, 1.2)\n",
    "\n",
    "# change those < 2 to 2\n",
    "melons[melons < 2] <- 2 \n",
    "\n",
    "melons"
   ]
  },
  {
   "cell_type": "code",
   "execution_count": 38,
   "id": "24de42fe",
   "metadata": {},
   "outputs": [
    {
     "data": {
      "text/html": [
       "<ol class=list-inline>\n",
       "\t<li>2</li>\n",
       "\t<li>2.4</li>\n",
       "\t<li>2</li>\n",
       "</ol>\n"
      ],
      "text/latex": [
       "\\begin{enumerate*}\n",
       "\\item 2\n",
       "\\item 2.4\n",
       "\\item 2\n",
       "\\end{enumerate*}\n"
      ],
      "text/markdown": [
       "1. 2\n",
       "2. 2.4\n",
       "3. 2\n",
       "\n",
       "\n"
      ],
      "text/plain": [
       "[1] 2.0 2.4 2.0"
      ]
     },
     "metadata": {},
     "output_type": "display_data"
    }
   ],
   "source": [
    "# delete elements, use the negate - before the c\n",
    "# this selects everything BUT 2 and 4\n",
    "new_melons <- melons[-c(2,4)]\n",
    "\n",
    "new_melons"
   ]
  },
  {
   "cell_type": "markdown",
   "id": "60482bb6",
   "metadata": {},
   "source": [
    "### Challenges:"
   ]
  },
  {
   "cell_type": "markdown",
   "id": "fb8369aa",
   "metadata": {},
   "source": [
    "#### 1. Create a vector called kids_ages with the following elements: 12, 11, 12, 13, 14, 13, 12, 10, 12, 12, 14, 13"
   ]
  },
  {
   "cell_type": "code",
   "execution_count": 80,
   "id": "8f29e0e3",
   "metadata": {},
   "outputs": [
    {
     "data": {
      "text/html": [
       "<ol class=list-inline>\n",
       "\t<li>12</li>\n",
       "\t<li>11</li>\n",
       "\t<li>12</li>\n",
       "\t<li>13</li>\n",
       "\t<li>14</li>\n",
       "\t<li>13</li>\n",
       "\t<li>12</li>\n",
       "\t<li>10</li>\n",
       "\t<li>12</li>\n",
       "\t<li>12</li>\n",
       "\t<li>14</li>\n",
       "\t<li>13</li>\n",
       "</ol>\n"
      ],
      "text/latex": [
       "\\begin{enumerate*}\n",
       "\\item 12\n",
       "\\item 11\n",
       "\\item 12\n",
       "\\item 13\n",
       "\\item 14\n",
       "\\item 13\n",
       "\\item 12\n",
       "\\item 10\n",
       "\\item 12\n",
       "\\item 12\n",
       "\\item 14\n",
       "\\item 13\n",
       "\\end{enumerate*}\n"
      ],
      "text/markdown": [
       "1. 12\n",
       "2. 11\n",
       "3. 12\n",
       "4. 13\n",
       "5. 14\n",
       "6. 13\n",
       "7. 12\n",
       "8. 10\n",
       "9. 12\n",
       "10. 12\n",
       "11. 14\n",
       "12. 13\n",
       "\n",
       "\n"
      ],
      "text/plain": [
       " [1] 12 11 12 13 14 13 12 10 12 12 14 13"
      ]
     },
     "metadata": {},
     "output_type": "display_data"
    }
   ],
   "source": [
    "# Solution \n",
    "kids_ages <- c(12, 11, 12, 13, 14, 13, 12, 10, 12, 12, 14, 13)\n",
    "\n",
    "kids_ages"
   ]
  },
  {
   "cell_type": "markdown",
   "id": "7738483c",
   "metadata": {},
   "source": [
    "#### 2. Calculate the mean of the kids_ages vector."
   ]
  },
  {
   "cell_type": "code",
   "execution_count": 81,
   "id": "c6bbbf89",
   "metadata": {},
   "outputs": [
    {
     "data": {
      "text/html": [
       "12.3333333333333"
      ],
      "text/latex": [
       "12.3333333333333"
      ],
      "text/markdown": [
       "12.3333333333333"
      ],
      "text/plain": [
       "[1] 12.33333"
      ]
     },
     "metadata": {},
     "output_type": "display_data"
    },
    {
     "data": {
      "text/html": [
       "12.33"
      ],
      "text/latex": [
       "12.33"
      ],
      "text/markdown": [
       "12.33"
      ],
      "text/plain": [
       "[1] 12.33"
      ]
     },
     "metadata": {},
     "output_type": "display_data"
    }
   ],
   "source": [
    "# Solution\n",
    "mean(kids_ages) \n",
    "\n",
    "# round to 2 digits\n",
    "round(mean(kids_ages), digits=2)"
   ]
  },
  {
   "cell_type": "markdown",
   "id": "d827d7ad",
   "metadata": {},
   "source": [
    "#### 3. Calculate the median of the kids_ages vector."
   ]
  },
  {
   "cell_type": "code",
   "execution_count": 82,
   "id": "536cb299",
   "metadata": {},
   "outputs": [
    {
     "data": {
      "text/html": [
       "12"
      ],
      "text/latex": [
       "12"
      ],
      "text/markdown": [
       "12"
      ],
      "text/plain": [
       "[1] 12"
      ]
     },
     "metadata": {},
     "output_type": "display_data"
    }
   ],
   "source": [
    "# Solution\n",
    "median(kids_ages)"
   ]
  },
  {
   "cell_type": "markdown",
   "id": "e6ab0988",
   "metadata": {},
   "source": [
    "#### 4. Create a new logical (TRUE/FALSE) vector called subset_ages that stores with TRUE the kids that have less than 11 years old and more than 13 years old."
   ]
  },
  {
   "cell_type": "code",
   "execution_count": 89,
   "id": "670acb1a",
   "metadata": {},
   "outputs": [
    {
     "data": {
      "text/html": [
       "<ol class=list-inline>\n",
       "\t<li>FALSE</li>\n",
       "\t<li>FALSE</li>\n",
       "\t<li>FALSE</li>\n",
       "\t<li>FALSE</li>\n",
       "\t<li>TRUE</li>\n",
       "\t<li>FALSE</li>\n",
       "\t<li>FALSE</li>\n",
       "\t<li>FALSE</li>\n",
       "\t<li>FALSE</li>\n",
       "\t<li>FALSE</li>\n",
       "\t<li>TRUE</li>\n",
       "\t<li>FALSE</li>\n",
       "</ol>\n"
      ],
      "text/latex": [
       "\\begin{enumerate*}\n",
       "\\item FALSE\n",
       "\\item FALSE\n",
       "\\item FALSE\n",
       "\\item FALSE\n",
       "\\item TRUE\n",
       "\\item FALSE\n",
       "\\item FALSE\n",
       "\\item FALSE\n",
       "\\item FALSE\n",
       "\\item FALSE\n",
       "\\item TRUE\n",
       "\\item FALSE\n",
       "\\end{enumerate*}\n"
      ],
      "text/markdown": [
       "1. FALSE\n",
       "2. FALSE\n",
       "3. FALSE\n",
       "4. FALSE\n",
       "5. TRUE\n",
       "6. FALSE\n",
       "7. FALSE\n",
       "8. FALSE\n",
       "9. FALSE\n",
       "10. FALSE\n",
       "11. TRUE\n",
       "12. FALSE\n",
       "\n",
       "\n"
      ],
      "text/plain": [
       " [1] FALSE FALSE FALSE FALSE  TRUE FALSE FALSE FALSE FALSE FALSE  TRUE FALSE"
      ]
     },
     "metadata": {},
     "output_type": "display_data"
    }
   ],
   "source": [
    "# Solution\n",
    "subset_ages <- c((kids_ages > 13) & (kids_ages >13))\n",
    "\n",
    "subset_ages"
   ]
  },
  {
   "cell_type": "markdown",
   "id": "da40cca2",
   "metadata": {},
   "source": [
    "#### 5. Give the following names to the kids_ages vector: \"John\", \"Rachel\", \"Joe\", \"Anne\", \"Theresa\", \"Samuel\", \"Marcus\", \"Andrew\", \"Kate\", \"Jane\", \"Martha\", \"David\""
   ]
  },
  {
   "cell_type": "code",
   "execution_count": 74,
   "id": "018699ce",
   "metadata": {},
   "outputs": [
    {
     "data": {
      "text/html": [
       "<dl class=dl-horizontal>\n",
       "\t<dt>John</dt>\n",
       "\t\t<dd>12</dd>\n",
       "\t<dt>Rachel</dt>\n",
       "\t\t<dd>11</dd>\n",
       "\t<dt>Joe</dt>\n",
       "\t\t<dd>12</dd>\n",
       "\t<dt>Anne</dt>\n",
       "\t\t<dd>13</dd>\n",
       "\t<dt>Theresa</dt>\n",
       "\t\t<dd>14</dd>\n",
       "\t<dt>Samuel</dt>\n",
       "\t\t<dd>13</dd>\n",
       "\t<dt>Marcus</dt>\n",
       "\t\t<dd>12</dd>\n",
       "\t<dt>Andrew</dt>\n",
       "\t\t<dd>10</dd>\n",
       "\t<dt>Kate</dt>\n",
       "\t\t<dd>12</dd>\n",
       "\t<dt>Jane</dt>\n",
       "\t\t<dd>12</dd>\n",
       "\t<dt>Martha</dt>\n",
       "\t\t<dd>14</dd>\n",
       "\t<dt>David</dt>\n",
       "\t\t<dd>13</dd>\n",
       "</dl>\n"
      ],
      "text/latex": [
       "\\begin{description*}\n",
       "\\item[John] 12\n",
       "\\item[Rachel] 11\n",
       "\\item[Joe] 12\n",
       "\\item[Anne] 13\n",
       "\\item[Theresa] 14\n",
       "\\item[Samuel] 13\n",
       "\\item[Marcus] 12\n",
       "\\item[Andrew] 10\n",
       "\\item[Kate] 12\n",
       "\\item[Jane] 12\n",
       "\\item[Martha] 14\n",
       "\\item[David] 13\n",
       "\\end{description*}\n"
      ],
      "text/markdown": [
       "John\n",
       ":   12Rachel\n",
       ":   11Joe\n",
       ":   12Anne\n",
       ":   13Theresa\n",
       ":   14Samuel\n",
       ":   13Marcus\n",
       ":   12Andrew\n",
       ":   10Kate\n",
       ":   12Jane\n",
       ":   12Martha\n",
       ":   14David\n",
       ":   13\n",
       "\n"
      ],
      "text/plain": [
       "   John  Rachel     Joe    Anne Theresa  Samuel  Marcus  Andrew    Kate    Jane \n",
       "     12      11      12      13      14      13      12      10      12      12 \n",
       " Martha   David \n",
       "     14      13 "
      ]
     },
     "metadata": {},
     "output_type": "display_data"
    }
   ],
   "source": [
    "# Solution\n",
    "names(kids_ages) <- c(\"John\", \"Rachel\", \"Joe\", \"Anne\", \"Theresa\", \"Samuel\", \"Marcus\", \"Andrew\", \"Kate\", \"Jane\", \"Martha\", \"David\")\n",
    "\n",
    "kids_ages"
   ]
  },
  {
   "cell_type": "markdown",
   "id": "0a63f918",
   "metadata": {},
   "source": [
    "#### 6. Subset the ages of \"Rachel\" and \"Anne\""
   ]
  },
  {
   "cell_type": "code",
   "execution_count": 75,
   "id": "b151d716",
   "metadata": {},
   "outputs": [
    {
     "data": {
      "text/html": [
       "<dl class=dl-horizontal>\n",
       "\t<dt>Rachel</dt>\n",
       "\t\t<dd>11</dd>\n",
       "\t<dt>Anne</dt>\n",
       "\t\t<dd>13</dd>\n",
       "</dl>\n"
      ],
      "text/latex": [
       "\\begin{description*}\n",
       "\\item[Rachel] 11\n",
       "\\item[Anne] 13\n",
       "\\end{description*}\n"
      ],
      "text/markdown": [
       "Rachel\n",
       ":   11Anne\n",
       ":   13\n",
       "\n"
      ],
      "text/plain": [
       "Rachel   Anne \n",
       "    11     13 "
      ]
     },
     "metadata": {},
     "output_type": "display_data"
    }
   ],
   "source": [
    "# Solution\n",
    "kids_ages[c(\"Rachel\", \"Anne\")]"
   ]
  },
  {
   "cell_type": "markdown",
   "id": "224a9308",
   "metadata": {},
   "source": [
    "#### 7. Change the age of the fifth student to 13"
   ]
  },
  {
   "cell_type": "code",
   "execution_count": 76,
   "id": "20beaf43",
   "metadata": {},
   "outputs": [
    {
     "data": {
      "text/html": [
       "<strong>Theresa:</strong> 14"
      ],
      "text/latex": [
       "\\textbf{Theresa:} 14"
      ],
      "text/markdown": [
       "**Theresa:** 14"
      ],
      "text/plain": [
       "Theresa \n",
       "     14 "
      ]
     },
     "metadata": {},
     "output_type": "display_data"
    },
    {
     "data": {
      "text/html": [
       "<strong>Theresa:</strong> 13"
      ],
      "text/latex": [
       "\\textbf{Theresa:} 13"
      ],
      "text/markdown": [
       "**Theresa:** 13"
      ],
      "text/plain": [
       "Theresa \n",
       "     13 "
      ]
     },
     "metadata": {},
     "output_type": "display_data"
    }
   ],
   "source": [
    "# Solution\n",
    "kids_ages[5]\n",
    "kids_ages[5] <- 13\n",
    "kids_ages[5]"
   ]
  },
  {
   "cell_type": "markdown",
   "id": "2e7515b3",
   "metadata": {},
   "source": [
    "#### 8. Return a vector named under_12 with the names of the students under 12 years old."
   ]
  },
  {
   "cell_type": "code",
   "execution_count": 77,
   "id": "4be34860",
   "metadata": {},
   "outputs": [
    {
     "data": {
      "text/html": [
       "<dl class=dl-horizontal>\n",
       "\t<dt>Rachel</dt>\n",
       "\t\t<dd>11</dd>\n",
       "\t<dt>Andrew</dt>\n",
       "\t\t<dd>10</dd>\n",
       "</dl>\n"
      ],
      "text/latex": [
       "\\begin{description*}\n",
       "\\item[Rachel] 11\n",
       "\\item[Andrew] 10\n",
       "\\end{description*}\n"
      ],
      "text/markdown": [
       "Rachel\n",
       ":   11Andrew\n",
       ":   10\n",
       "\n"
      ],
      "text/plain": [
       "Rachel Andrew \n",
       "    11     10 "
      ]
     },
     "metadata": {},
     "output_type": "display_data"
    }
   ],
   "source": [
    "# Solution\n",
    "under_12 <- kids_ages[kids_ages < 12]\n",
    "under_12"
   ]
  },
  {
   "cell_type": "code",
   "execution_count": null,
   "id": "fa579f04",
   "metadata": {},
   "outputs": [],
   "source": []
  },
  {
   "cell_type": "code",
   "execution_count": null,
   "id": "253ee126",
   "metadata": {},
   "outputs": [],
   "source": []
  },
  {
   "cell_type": "code",
   "execution_count": null,
   "id": "776090c0",
   "metadata": {},
   "outputs": [],
   "source": []
  }
 ],
 "metadata": {
  "kernelspec": {
   "display_name": "R",
   "language": "R",
   "name": "ir"
  },
  "language_info": {
   "codemirror_mode": "r",
   "file_extension": ".r",
   "mimetype": "text/x-r-source",
   "name": "R",
   "pygments_lexer": "r",
   "version": "3.6.1"
  }
 },
 "nbformat": 4,
 "nbformat_minor": 5
}
