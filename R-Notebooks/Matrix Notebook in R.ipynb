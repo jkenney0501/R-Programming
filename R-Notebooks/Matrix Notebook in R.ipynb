{
 "cells": [
  {
   "cell_type": "markdown",
   "id": "2fd1b3f6",
   "metadata": {},
   "source": [
    "### Matrices\n",
    "\n",
    "<p>Essentially, these are two dimensional arrays.</p>"
   ]
  },
  {
   "cell_type": "code",
   "execution_count": 1,
   "id": "d4b0b40a",
   "metadata": {},
   "outputs": [
    {
     "data": {
      "text/html": [
       "<table>\n",
       "<tbody>\n",
       "\t<tr><td>1</td><td>3</td><td>1</td><td>3</td></tr>\n",
       "\t<tr><td>2</td><td>4</td><td>2</td><td>4</td></tr>\n",
       "\t<tr><td>3</td><td>1</td><td>3</td><td>1</td></tr>\n",
       "\t<tr><td>4</td><td>2</td><td>4</td><td>2</td></tr>\n",
       "\t<tr><td>1</td><td>3</td><td>1</td><td>3</td></tr>\n",
       "\t<tr><td>2</td><td>4</td><td>2</td><td>4</td></tr>\n",
       "\t<tr><td>3</td><td>1</td><td>3</td><td>1</td></tr>\n",
       "\t<tr><td>4</td><td>2</td><td>4</td><td>2</td></tr>\n",
       "\t<tr><td>1</td><td>3</td><td>1</td><td>3</td></tr>\n",
       "\t<tr><td>2</td><td>4</td><td>2</td><td>4</td></tr>\n",
       "</tbody>\n",
       "</table>\n"
      ],
      "text/latex": [
       "\\begin{tabular}{llll}\n",
       "\t 1 & 3 & 1 & 3\\\\\n",
       "\t 2 & 4 & 2 & 4\\\\\n",
       "\t 3 & 1 & 3 & 1\\\\\n",
       "\t 4 & 2 & 4 & 2\\\\\n",
       "\t 1 & 3 & 1 & 3\\\\\n",
       "\t 2 & 4 & 2 & 4\\\\\n",
       "\t 3 & 1 & 3 & 1\\\\\n",
       "\t 4 & 2 & 4 & 2\\\\\n",
       "\t 1 & 3 & 1 & 3\\\\\n",
       "\t 2 & 4 & 2 & 4\\\\\n",
       "\\end{tabular}\n"
      ],
      "text/markdown": [
       "\n",
       "| 1 | 3 | 1 | 3 |\n",
       "| 2 | 4 | 2 | 4 |\n",
       "| 3 | 1 | 3 | 1 |\n",
       "| 4 | 2 | 4 | 2 |\n",
       "| 1 | 3 | 1 | 3 |\n",
       "| 2 | 4 | 2 | 4 |\n",
       "| 3 | 1 | 3 | 1 |\n",
       "| 4 | 2 | 4 | 2 |\n",
       "| 1 | 3 | 1 | 3 |\n",
       "| 2 | 4 | 2 | 4 |\n",
       "\n"
      ],
      "text/plain": [
       "      [,1] [,2] [,3] [,4]\n",
       " [1,] 1    3    1    3   \n",
       " [2,] 2    4    2    4   \n",
       " [3,] 3    1    3    1   \n",
       " [4,] 4    2    4    2   \n",
       " [5,] 1    3    1    3   \n",
       " [6,] 2    4    2    4   \n",
       " [7,] 3    1    3    1   \n",
       " [8,] 4    2    4    2   \n",
       " [9,] 1    3    1    3   \n",
       "[10,] 2    4    2    4   "
      ]
     },
     "metadata": {},
     "output_type": "display_data"
    }
   ],
   "source": [
    "# for help - ?matrix()\n",
    "example_matrix1 <- matrix(data=1:4, nrow=10, ncol=4)\n",
    "\n",
    "example_matrix1"
   ]
  },
  {
   "cell_type": "code",
   "execution_count": 2,
   "id": "1e421f3b",
   "metadata": {},
   "outputs": [
    {
     "data": {
      "text/html": [
       "<table>\n",
       "<tbody>\n",
       "\t<tr><td>1</td><td>2</td><td>3</td><td>4</td></tr>\n",
       "\t<tr><td>1</td><td>2</td><td>3</td><td>4</td></tr>\n",
       "\t<tr><td>1</td><td>2</td><td>3</td><td>4</td></tr>\n",
       "\t<tr><td>1</td><td>2</td><td>3</td><td>4</td></tr>\n",
       "\t<tr><td>1</td><td>2</td><td>3</td><td>4</td></tr>\n",
       "\t<tr><td>1</td><td>2</td><td>3</td><td>4</td></tr>\n",
       "\t<tr><td>1</td><td>2</td><td>3</td><td>4</td></tr>\n",
       "\t<tr><td>1</td><td>2</td><td>3</td><td>4</td></tr>\n",
       "\t<tr><td>1</td><td>2</td><td>3</td><td>4</td></tr>\n",
       "\t<tr><td>1</td><td>2</td><td>3</td><td>4</td></tr>\n",
       "</tbody>\n",
       "</table>\n"
      ],
      "text/latex": [
       "\\begin{tabular}{llll}\n",
       "\t 1 & 2 & 3 & 4\\\\\n",
       "\t 1 & 2 & 3 & 4\\\\\n",
       "\t 1 & 2 & 3 & 4\\\\\n",
       "\t 1 & 2 & 3 & 4\\\\\n",
       "\t 1 & 2 & 3 & 4\\\\\n",
       "\t 1 & 2 & 3 & 4\\\\\n",
       "\t 1 & 2 & 3 & 4\\\\\n",
       "\t 1 & 2 & 3 & 4\\\\\n",
       "\t 1 & 2 & 3 & 4\\\\\n",
       "\t 1 & 2 & 3 & 4\\\\\n",
       "\\end{tabular}\n"
      ],
      "text/markdown": [
       "\n",
       "| 1 | 2 | 3 | 4 |\n",
       "| 1 | 2 | 3 | 4 |\n",
       "| 1 | 2 | 3 | 4 |\n",
       "| 1 | 2 | 3 | 4 |\n",
       "| 1 | 2 | 3 | 4 |\n",
       "| 1 | 2 | 3 | 4 |\n",
       "| 1 | 2 | 3 | 4 |\n",
       "| 1 | 2 | 3 | 4 |\n",
       "| 1 | 2 | 3 | 4 |\n",
       "| 1 | 2 | 3 | 4 |\n",
       "\n"
      ],
      "text/plain": [
       "      [,1] [,2] [,3] [,4]\n",
       " [1,] 1    2    3    4   \n",
       " [2,] 1    2    3    4   \n",
       " [3,] 1    2    3    4   \n",
       " [4,] 1    2    3    4   \n",
       " [5,] 1    2    3    4   \n",
       " [6,] 1    2    3    4   \n",
       " [7,] 1    2    3    4   \n",
       " [8,] 1    2    3    4   \n",
       " [9,] 1    2    3    4   \n",
       "[10,] 1    2    3    4   "
      ]
     },
     "metadata": {},
     "output_type": "display_data"
    }
   ],
   "source": [
    "# The data is input vertically by column, \n",
    "# to alter this so its input row by row use byrow = TRUE in the ()\n",
    "example_matrix <- matrix(data=1:4, nrow=10, ncol=4, byrow = TRUE)\n",
    "example_matrix"
   ]
  },
  {
   "cell_type": "code",
   "execution_count": 3,
   "id": "4d54ef88",
   "metadata": {},
   "outputs": [
    {
     "data": {
      "text/html": [
       "<table>\n",
       "<tbody>\n",
       "\t<tr><td>TRUE</td><td>TRUE</td><td>TRUE</td><td>TRUE</td></tr>\n",
       "\t<tr><td>TRUE</td><td>TRUE</td><td>TRUE</td><td>TRUE</td></tr>\n",
       "\t<tr><td>TRUE</td><td>TRUE</td><td>TRUE</td><td>TRUE</td></tr>\n",
       "\t<tr><td>TRUE</td><td>TRUE</td><td>TRUE</td><td>TRUE</td></tr>\n",
       "\t<tr><td>TRUE</td><td>TRUE</td><td>TRUE</td><td>TRUE</td></tr>\n",
       "\t<tr><td>TRUE</td><td>TRUE</td><td>TRUE</td><td>TRUE</td></tr>\n",
       "\t<tr><td>TRUE</td><td>TRUE</td><td>TRUE</td><td>TRUE</td></tr>\n",
       "\t<tr><td>TRUE</td><td>TRUE</td><td>TRUE</td><td>TRUE</td></tr>\n",
       "\t<tr><td>TRUE</td><td>TRUE</td><td>TRUE</td><td>TRUE</td></tr>\n",
       "\t<tr><td>TRUE</td><td>TRUE</td><td>TRUE</td><td>TRUE</td></tr>\n",
       "</tbody>\n",
       "</table>\n"
      ],
      "text/latex": [
       "\\begin{tabular}{llll}\n",
       "\t TRUE & TRUE & TRUE & TRUE\\\\\n",
       "\t TRUE & TRUE & TRUE & TRUE\\\\\n",
       "\t TRUE & TRUE & TRUE & TRUE\\\\\n",
       "\t TRUE & TRUE & TRUE & TRUE\\\\\n",
       "\t TRUE & TRUE & TRUE & TRUE\\\\\n",
       "\t TRUE & TRUE & TRUE & TRUE\\\\\n",
       "\t TRUE & TRUE & TRUE & TRUE\\\\\n",
       "\t TRUE & TRUE & TRUE & TRUE\\\\\n",
       "\t TRUE & TRUE & TRUE & TRUE\\\\\n",
       "\t TRUE & TRUE & TRUE & TRUE\\\\\n",
       "\\end{tabular}\n"
      ],
      "text/markdown": [
       "\n",
       "| TRUE | TRUE | TRUE | TRUE |\n",
       "| TRUE | TRUE | TRUE | TRUE |\n",
       "| TRUE | TRUE | TRUE | TRUE |\n",
       "| TRUE | TRUE | TRUE | TRUE |\n",
       "| TRUE | TRUE | TRUE | TRUE |\n",
       "| TRUE | TRUE | TRUE | TRUE |\n",
       "| TRUE | TRUE | TRUE | TRUE |\n",
       "| TRUE | TRUE | TRUE | TRUE |\n",
       "| TRUE | TRUE | TRUE | TRUE |\n",
       "| TRUE | TRUE | TRUE | TRUE |\n",
       "\n"
      ],
      "text/plain": [
       "      [,1] [,2] [,3] [,4]\n",
       " [1,] TRUE TRUE TRUE TRUE\n",
       " [2,] TRUE TRUE TRUE TRUE\n",
       " [3,] TRUE TRUE TRUE TRUE\n",
       " [4,] TRUE TRUE TRUE TRUE\n",
       " [5,] TRUE TRUE TRUE TRUE\n",
       " [6,] TRUE TRUE TRUE TRUE\n",
       " [7,] TRUE TRUE TRUE TRUE\n",
       " [8,] TRUE TRUE TRUE TRUE\n",
       " [9,] TRUE TRUE TRUE TRUE\n",
       "[10,] TRUE TRUE TRUE TRUE"
      ]
     },
     "metadata": {},
     "output_type": "display_data"
    }
   ],
   "source": [
    "# create the 1st matrix using an array\n",
    "example_matrix2 <- array(data = 1:4, dim = c(10,4))\n",
    "\n",
    "example_matrix2 == example_matrix1"
   ]
  },
  {
   "cell_type": "code",
   "execution_count": 4,
   "id": "7ee618b5",
   "metadata": {},
   "outputs": [
    {
     "data": {
      "text/html": [
       "<ol class=list-inline>\n",
       "\t<li>10</li>\n",
       "\t<li>4</li>\n",
       "</ol>\n"
      ],
      "text/latex": [
       "\\begin{enumerate*}\n",
       "\\item 10\n",
       "\\item 4\n",
       "\\end{enumerate*}\n"
      ],
      "text/markdown": [
       "1. 10\n",
       "2. 4\n",
       "\n",
       "\n"
      ],
      "text/plain": [
       "[1] 10  4"
      ]
     },
     "metadata": {},
     "output_type": "display_data"
    }
   ],
   "source": [
    "dim(example_matrix2)"
   ]
  },
  {
   "cell_type": "code",
   "execution_count": 5,
   "id": "b4c908ad",
   "metadata": {},
   "outputs": [
    {
     "data": {
      "text/html": [
       "'matrix'"
      ],
      "text/latex": [
       "'matrix'"
      ],
      "text/markdown": [
       "'matrix'"
      ],
      "text/plain": [
       "[1] \"matrix\""
      ]
     },
     "metadata": {},
     "output_type": "display_data"
    }
   ],
   "source": [
    "class(example_matrix2)"
   ]
  },
  {
   "cell_type": "code",
   "execution_count": 6,
   "id": "25e34972",
   "metadata": {},
   "outputs": [
    {
     "data": {
      "text/html": [
       "4"
      ],
      "text/latex": [
       "4"
      ],
      "text/markdown": [
       "4"
      ],
      "text/plain": [
       "[1] 4"
      ]
     },
     "metadata": {},
     "output_type": "display_data"
    }
   ],
   "source": [
    "ncol(example_matrix2)"
   ]
  },
  {
   "cell_type": "markdown",
   "id": "0e6c2162",
   "metadata": {},
   "source": [
    "### Matrix Operations"
   ]
  },
  {
   "cell_type": "code",
   "execution_count": 8,
   "id": "d71a988a",
   "metadata": {},
   "outputs": [
    {
     "data": {
      "text/html": [
       "<table>\n",
       "<tbody>\n",
       "\t<tr><td>1</td><td>3</td></tr>\n",
       "\t<tr><td>2</td><td>4</td></tr>\n",
       "</tbody>\n",
       "</table>\n"
      ],
      "text/latex": [
       "\\begin{tabular}{ll}\n",
       "\t 1 & 3\\\\\n",
       "\t 2 & 4\\\\\n",
       "\\end{tabular}\n"
      ],
      "text/markdown": [
       "\n",
       "| 1 | 3 |\n",
       "| 2 | 4 |\n",
       "\n"
      ],
      "text/plain": [
       "     [,1] [,2]\n",
       "[1,] 1    3   \n",
       "[2,] 2    4   "
      ]
     },
     "metadata": {},
     "output_type": "display_data"
    },
    {
     "data": {
      "text/html": [
       "<table>\n",
       "<tbody>\n",
       "\t<tr><td>200</td><td>202</td></tr>\n",
       "\t<tr><td>201</td><td>203</td></tr>\n",
       "</tbody>\n",
       "</table>\n"
      ],
      "text/latex": [
       "\\begin{tabular}{ll}\n",
       "\t 200 & 202\\\\\n",
       "\t 201 & 203\\\\\n",
       "\\end{tabular}\n"
      ],
      "text/markdown": [
       "\n",
       "| 200 | 202 |\n",
       "| 201 | 203 |\n",
       "\n"
      ],
      "text/plain": [
       "     [,1] [,2]\n",
       "[1,] 200  202 \n",
       "[2,] 201  203 "
      ]
     },
     "metadata": {},
     "output_type": "display_data"
    }
   ],
   "source": [
    "example_matrix1 <- matrix(data = 1:4, nrow = 2, ncol = 2)\n",
    "example_matrix1\n",
    "\n",
    "\n",
    "example_matrix2 <- matrix(data = 200:203, nrow = 2, ncol = 2)\n",
    "example_matrix2"
   ]
  },
  {
   "cell_type": "code",
   "execution_count": 9,
   "id": "7bfe481d",
   "metadata": {},
   "outputs": [
    {
     "data": {
      "text/html": [
       "<table>\n",
       "<tbody>\n",
       "\t<tr><td>200</td><td>606</td></tr>\n",
       "\t<tr><td>402</td><td>812</td></tr>\n",
       "</tbody>\n",
       "</table>\n"
      ],
      "text/latex": [
       "\\begin{tabular}{ll}\n",
       "\t 200 & 606\\\\\n",
       "\t 402 & 812\\\\\n",
       "\\end{tabular}\n"
      ],
      "text/markdown": [
       "\n",
       "| 200 | 606 |\n",
       "| 402 | 812 |\n",
       "\n"
      ],
      "text/plain": [
       "     [,1] [,2]\n",
       "[1,] 200  606 \n",
       "[2,] 402  812 "
      ]
     },
     "metadata": {},
     "output_type": "display_data"
    }
   ],
   "source": [
    "# * multiply by one another\n",
    "# you can also use +, -, /, **\n",
    "example_matrix1 * example_matrix2"
   ]
  },
  {
   "cell_type": "code",
   "execution_count": 10,
   "id": "89dde781",
   "metadata": {},
   "outputs": [
    {
     "data": {
      "text/html": [
       "<table>\n",
       "<tbody>\n",
       "\t<tr><td>1</td><td>2</td><td>3</td></tr>\n",
       "\t<tr><td>4</td><td>5</td><td>6</td></tr>\n",
       "</tbody>\n",
       "</table>\n"
      ],
      "text/latex": [
       "\\begin{tabular}{lll}\n",
       "\t 1 & 2 & 3\\\\\n",
       "\t 4 & 5 & 6\\\\\n",
       "\\end{tabular}\n"
      ],
      "text/markdown": [
       "\n",
       "| 1 | 2 | 3 |\n",
       "| 4 | 5 | 6 |\n",
       "\n"
      ],
      "text/plain": [
       "     [,1] [,2] [,3]\n",
       "[1,] 1    2    3   \n",
       "[2,] 4    5    6   "
      ]
     },
     "metadata": {},
     "output_type": "display_data"
    }
   ],
   "source": [
    "# DOT Product of a matrix (simple algebra)\n",
    "matrix1 <-matrix(1:6, nrow = 2, ncol=3, byrow = TRUE)\n",
    "\n",
    "matrix1"
   ]
  },
  {
   "cell_type": "code",
   "execution_count": 11,
   "id": "3f53397e",
   "metadata": {},
   "outputs": [
    {
     "data": {
      "text/html": [
       "<table>\n",
       "<tbody>\n",
       "\t<tr><td> 7</td><td> 8</td></tr>\n",
       "\t<tr><td> 9</td><td>10</td></tr>\n",
       "\t<tr><td>11</td><td>12</td></tr>\n",
       "</tbody>\n",
       "</table>\n"
      ],
      "text/latex": [
       "\\begin{tabular}{ll}\n",
       "\t  7 &  8\\\\\n",
       "\t  9 & 10\\\\\n",
       "\t 11 & 12\\\\\n",
       "\\end{tabular}\n"
      ],
      "text/markdown": [
       "\n",
       "|  7 |  8 |\n",
       "|  9 | 10 |\n",
       "| 11 | 12 |\n",
       "\n"
      ],
      "text/plain": [
       "     [,1] [,2]\n",
       "[1,]  7    8  \n",
       "[2,]  9   10  \n",
       "[3,] 11   12  "
      ]
     },
     "metadata": {},
     "output_type": "display_data"
    }
   ],
   "source": [
    "matrix2 <-matrix(7:12, nrow = 3, ncol=2, byrow = TRUE)\n",
    "matrix2"
   ]
  },
  {
   "cell_type": "code",
   "execution_count": 12,
   "id": "dba08938",
   "metadata": {},
   "outputs": [
    {
     "data": {
      "text/html": [
       "<table>\n",
       "<tbody>\n",
       "\t<tr><td> 58</td><td> 64</td></tr>\n",
       "\t<tr><td>139</td><td>154</td></tr>\n",
       "</tbody>\n",
       "</table>\n"
      ],
      "text/latex": [
       "\\begin{tabular}{ll}\n",
       "\t  58 &  64\\\\\n",
       "\t 139 & 154\\\\\n",
       "\\end{tabular}\n"
      ],
      "text/markdown": [
       "\n",
       "|  58 |  64 |\n",
       "| 139 | 154 |\n",
       "\n"
      ],
      "text/plain": [
       "     [,1] [,2]\n",
       "[1,]  58   64 \n",
       "[2,] 139  154 "
      ]
     },
     "metadata": {},
     "output_type": "display_data"
    }
   ],
   "source": [
    "# HOW CAN WE MULTIPLY MATRIX1 BY MATRIX2 TO GET THE DOT PRODUCT?\n",
    "# USE %*%, inner dims must match!\n",
    "matrix1 %*% matrix2"
   ]
  },
  {
   "cell_type": "markdown",
   "id": "ed3dbd9d",
   "metadata": {},
   "source": [
    "### Challenges:"
   ]
  },
  {
   "cell_type": "markdown",
   "id": "88eeca92",
   "metadata": {},
   "source": [
    "#### 1.Create a matrix using the matrix() function with 3 rows and 2 columns - name it matrix_example. Feed it with the following data: c(100,23,42,23,342,203)"
   ]
  },
  {
   "cell_type": "code",
   "execution_count": 14,
   "id": "c15ce8ed",
   "metadata": {},
   "outputs": [
    {
     "data": {
      "text/html": [
       "<table>\n",
       "<tbody>\n",
       "\t<tr><td>100</td><td> 23</td></tr>\n",
       "\t<tr><td> 23</td><td>342</td></tr>\n",
       "\t<tr><td> 42</td><td>203</td></tr>\n",
       "</tbody>\n",
       "</table>\n"
      ],
      "text/latex": [
       "\\begin{tabular}{ll}\n",
       "\t 100 &  23\\\\\n",
       "\t  23 & 342\\\\\n",
       "\t  42 & 203\\\\\n",
       "\\end{tabular}\n"
      ],
      "text/markdown": [
       "\n",
       "| 100 |  23 |\n",
       "|  23 | 342 |\n",
       "|  42 | 203 |\n",
       "\n"
      ],
      "text/plain": [
       "     [,1] [,2]\n",
       "[1,] 100   23 \n",
       "[2,]  23  342 \n",
       "[3,]  42  203 "
      ]
     },
     "metadata": {},
     "output_type": "display_data"
    }
   ],
   "source": [
    "# Solution\n",
    "matrix_example <- matrix(data = c(100,23,42,23,342,203), nrow = 3, ncol = 2)\n",
    "matrix_example"
   ]
  },
  {
   "cell_type": "markdown",
   "id": "3e35f196",
   "metadata": {},
   "source": [
    "#### 2. Divide the whole matrix by itself and store it in an object called one_matrix."
   ]
  },
  {
   "cell_type": "code",
   "execution_count": 15,
   "id": "5a159f44",
   "metadata": {},
   "outputs": [
    {
     "data": {
      "text/html": [
       "<table>\n",
       "<tbody>\n",
       "\t<tr><td>1</td><td>1</td></tr>\n",
       "\t<tr><td>1</td><td>1</td></tr>\n",
       "\t<tr><td>1</td><td>1</td></tr>\n",
       "</tbody>\n",
       "</table>\n"
      ],
      "text/latex": [
       "\\begin{tabular}{ll}\n",
       "\t 1 & 1\\\\\n",
       "\t 1 & 1\\\\\n",
       "\t 1 & 1\\\\\n",
       "\\end{tabular}\n"
      ],
      "text/markdown": [
       "\n",
       "| 1 | 1 |\n",
       "| 1 | 1 |\n",
       "| 1 | 1 |\n",
       "\n"
      ],
      "text/plain": [
       "     [,1] [,2]\n",
       "[1,] 1    1   \n",
       "[2,] 1    1   \n",
       "[3,] 1    1   "
      ]
     },
     "metadata": {},
     "output_type": "display_data"
    }
   ],
   "source": [
    "# Solution\n",
    "one_matrix <- matrix_example/matrix_example\n",
    "\n",
    "one_matrix"
   ]
  },
  {
   "cell_type": "markdown",
   "id": "a09c1754",
   "metadata": {},
   "source": [
    "#### 3. Apply a logarithm to the first column of the matrix. Rewrite that column in the one_matrix."
   ]
  },
  {
   "cell_type": "code",
   "execution_count": null,
   "id": "20411fe7",
   "metadata": {},
   "outputs": [],
   "source": []
  },
  {
   "cell_type": "markdown",
   "id": "a326eca6",
   "metadata": {},
   "source": [
    "#### 4. Multiply the second row of the matrix by 0.33 - rewrite the row on the one_matrix."
   ]
  },
  {
   "cell_type": "code",
   "execution_count": null,
   "id": "90e75533",
   "metadata": {},
   "outputs": [],
   "source": []
  },
  {
   "cell_type": "markdown",
   "id": "e5ed0070",
   "metadata": {},
   "source": [
    "#### 5. Transpose the one_matrix and save it in an object called one_matrix_t."
   ]
  },
  {
   "cell_type": "code",
   "execution_count": null,
   "id": "e63fdb40",
   "metadata": {},
   "outputs": [],
   "source": []
  },
  {
   "cell_type": "markdown",
   "id": "14622689",
   "metadata": {},
   "source": [
    "#### 6. Use matrix multiplication properties to compute the multiplication of matrix_example and one_matrix_tand save it in an object called matrix_mul. Hint: Remember the %*% operator."
   ]
  },
  {
   "cell_type": "code",
   "execution_count": null,
   "id": "3969621f",
   "metadata": {},
   "outputs": [],
   "source": []
  },
  {
   "cell_type": "code",
   "execution_count": null,
   "id": "d93c95fd",
   "metadata": {},
   "outputs": [],
   "source": []
  },
  {
   "cell_type": "code",
   "execution_count": null,
   "id": "e3e71ac4",
   "metadata": {},
   "outputs": [],
   "source": []
  },
  {
   "cell_type": "code",
   "execution_count": null,
   "id": "3105326d",
   "metadata": {},
   "outputs": [],
   "source": []
  },
  {
   "cell_type": "code",
   "execution_count": null,
   "id": "16983482",
   "metadata": {},
   "outputs": [],
   "source": []
  }
 ],
 "metadata": {
  "kernelspec": {
   "display_name": "R",
   "language": "R",
   "name": "ir"
  },
  "language_info": {
   "codemirror_mode": "r",
   "file_extension": ".r",
   "mimetype": "text/x-r-source",
   "name": "R",
   "pygments_lexer": "r",
   "version": "3.6.1"
  }
 },
 "nbformat": 4,
 "nbformat_minor": 5
}
