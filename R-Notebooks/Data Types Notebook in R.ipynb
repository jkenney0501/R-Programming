{
 "cells": [
  {
   "cell_type": "markdown",
   "id": "2ccddbb7",
   "metadata": {},
   "source": [
    "### Data Types\n",
    "<p>String/char/text:</p>\n",
    "<li>everything with \"\" or '' will be defined as a string, even '123'</li>\n",
    "\n",
    "<p>Numerical</p>\n",
    "<li>int, float for storing as integer use L ex: num = 1L will store as INT\n",
    "OR  as.integer(1)</li>\n",
    "\n",
    "<p>Logical</p>\n",
    "<li>boolean values stored as TRUE or FALSE</li>\n",
    "<li>they are comparison operators, can be transformed to numeric 1 or 0</li>\n",
    "\n",
    "<p>Conversion functions</p>\n",
    "<li>as.numeric( )</li>\n",
    "<li>as.integer( )</li>\n",
    "<li>as.character( )</li>\n",
    "<li>as.logical( )</li>\n",
    "<li>to test: is.x( )</li>\n",
    "<li>class( ) - returns type of</li>\n"
   ]
  },
  {
   "cell_type": "code",
   "execution_count": 1,
   "id": "36a36748",
   "metadata": {},
   "outputs": [
    {
     "data": {
      "text/html": [
       "'numeric'"
      ],
      "text/latex": [
       "'numeric'"
      ],
      "text/markdown": [
       "'numeric'"
      ],
      "text/plain": [
       "[1] \"numeric\""
      ]
     },
     "metadata": {},
     "output_type": "display_data"
    },
    {
     "data": {
      "text/html": [
       "'double'"
      ],
      "text/latex": [
       "'double'"
      ],
      "text/markdown": [
       "'double'"
      ],
      "text/plain": [
       "[1] \"double\""
      ]
     },
     "metadata": {},
     "output_type": "display_data"
    }
   ],
   "source": [
    "# ---numeric\n",
    "number <-1\n",
    "\n",
    "# check class data type\n",
    "class(number) # numeric\n",
    "\n",
    "# underlying data type\n",
    "typeof(number)  # double"
   ]
  },
  {
   "cell_type": "code",
   "execution_count": 2,
   "id": "7ce4188f",
   "metadata": {},
   "outputs": [
    {
     "data": {
      "text/html": [
       "'Date'"
      ],
      "text/latex": [
       "'Date'"
      ],
      "text/markdown": [
       "'Date'"
      ],
      "text/plain": [
       "[1] \"Date\""
      ]
     },
     "metadata": {},
     "output_type": "display_data"
    },
    {
     "data": {
      "text/html": [
       "18628"
      ],
      "text/latex": [
       "18628"
      ],
      "text/markdown": [
       "18628"
      ],
      "text/plain": [
       "[1] 18628"
      ]
     },
     "metadata": {},
     "output_type": "display_data"
    }
   ],
   "source": [
    "# ----date\n",
    "my_date <- as.Date('2021-01-01')\n",
    "\n",
    "class(my_date) # Date\n",
    "\n",
    "# dates are stored as numbers, days since 1970\n",
    "# example:\n",
    "as.numeric(my_date) # returns 18,628"
   ]
  },
  {
   "cell_type": "code",
   "execution_count": 3,
   "id": "0e6e8697",
   "metadata": {},
   "outputs": [
    {
     "data": {
      "text/html": [
       "'character'"
      ],
      "text/latex": [
       "'character'"
      ],
      "text/markdown": [
       "'character'"
      ],
      "text/plain": [
       "[1] \"character\""
      ]
     },
     "metadata": {},
     "output_type": "display_data"
    },
    {
     "data": {
      "text/html": [
       "'logical'"
      ],
      "text/latex": [
       "'logical'"
      ],
      "text/markdown": [
       "'logical'"
      ],
      "text/plain": [
       "[1] \"logical\""
      ]
     },
     "metadata": {},
     "output_type": "display_data"
    },
    {
     "data": {
      "text/html": [
       "FALSE"
      ],
      "text/latex": [
       "FALSE"
      ],
      "text/markdown": [
       "FALSE"
      ],
      "text/plain": [
       "[1] FALSE"
      ]
     },
     "metadata": {},
     "output_type": "display_data"
    }
   ],
   "source": [
    "# ----Char\n",
    "word <- \"newspaper\"\n",
    "\n",
    "class('newspaper') # character\n",
    "\n",
    "# ---Logical \n",
    "class(TRUE) #\"logical\"\n",
    "\n",
    "# -- Testing\n",
    "# is.character\n",
    "# is.logical\n",
    "is.numeric(\"newspaper\")  #FALSE\n"
   ]
  },
  {
   "cell_type": "markdown",
   "id": "23160304",
   "metadata": {},
   "source": [
    "### Conversions"
   ]
  },
  {
   "cell_type": "code",
   "execution_count": 4,
   "id": "0482a05f",
   "metadata": {},
   "outputs": [
    {
     "data": {
      "text/html": [
       "'23'"
      ],
      "text/latex": [
       "'23'"
      ],
      "text/markdown": [
       "'23'"
      ],
      "text/plain": [
       "[1] \"23\""
      ]
     },
     "metadata": {},
     "output_type": "display_data"
    }
   ],
   "source": [
    "number <- 23 \n",
    "\n",
    "# convert number to string\n",
    "as.character(number) # \"23\""
   ]
  },
  {
   "cell_type": "code",
   "execution_count": 5,
   "id": "2eeebf52",
   "metadata": {},
   "outputs": [
    {
     "data": {
      "text/html": [
       "23"
      ],
      "text/latex": [
       "23"
      ],
      "text/markdown": [
       "23"
      ],
      "text/plain": [
       "[1] 23"
      ]
     },
     "metadata": {},
     "output_type": "display_data"
    }
   ],
   "source": [
    "# R can convert string numbers like \"23\" to numeric\n",
    "# if letters or characters are present, R cannot convert to a number\n",
    "word <- \"23\"\n",
    "as.numeric(word) # 23"
   ]
  },
  {
   "cell_type": "code",
   "execution_count": 6,
   "id": "a921a292",
   "metadata": {},
   "outputs": [
    {
     "data": {
      "text/html": [
       "<ol class=list-inline>\n",
       "\t<li>'1'</li>\n",
       "\t<li>'2'</li>\n",
       "\t<li>'3'</li>\n",
       "\t<li>'4'</li>\n",
       "</ol>\n"
      ],
      "text/latex": [
       "\\begin{enumerate*}\n",
       "\\item '1'\n",
       "\\item '2'\n",
       "\\item '3'\n",
       "\\item '4'\n",
       "\\end{enumerate*}\n"
      ],
      "text/markdown": [
       "1. '1'\n",
       "2. '2'\n",
       "3. '3'\n",
       "4. '4'\n",
       "\n",
       "\n"
      ],
      "text/plain": [
       "[1] \"1\" \"2\" \"3\" \"4\""
      ]
     },
     "metadata": {},
     "output_type": "display_data"
    }
   ],
   "source": [
    "# you can apply conversions to vectors-change numeric to character but it doesnt stay char\n",
    "numerical_vector <- c(1,2,3,4)\n",
    "\n",
    "as.character(numerical_vector)"
   ]
  },
  {
   "cell_type": "code",
   "execution_count": 7,
   "id": "4dd04ae0",
   "metadata": {},
   "outputs": [
    {
     "data": {
      "text/html": [
       "<ol class=list-inline>\n",
       "\t<li>'1'</li>\n",
       "\t<li>'2'</li>\n",
       "\t<li>'3'</li>\n",
       "\t<li>'4'</li>\n",
       "</ol>\n"
      ],
      "text/latex": [
       "\\begin{enumerate*}\n",
       "\\item '1'\n",
       "\\item '2'\n",
       "\\item '3'\n",
       "\\item '4'\n",
       "\\end{enumerate*}\n"
      ],
      "text/markdown": [
       "1. '1'\n",
       "2. '2'\n",
       "3. '3'\n",
       "4. '4'\n",
       "\n",
       "\n"
      ],
      "text/plain": [
       "[1] \"1\" \"2\" \"3\" \"4\""
      ]
     },
     "metadata": {},
     "output_type": "display_data"
    }
   ],
   "source": [
    "# assign to a new object for persistence\n",
    "char_vector <- as.character(numerical_vector)\n",
    "\n",
    "char_vector"
   ]
  },
  {
   "cell_type": "code",
   "execution_count": 8,
   "id": "56ef434b",
   "metadata": {},
   "outputs": [
    {
     "name": "stderr",
     "output_type": "stream",
     "text": [
      "Warning message in eval(expr, envir, enclos):\n",
      "“NAs introduced by coercion”"
     ]
    },
    {
     "data": {
      "text/html": [
       "<ol class=list-inline>\n",
       "\t<li>2001</li>\n",
       "\t<li>2004</li>\n",
       "\t<li>2008</li>\n",
       "\t<li>&lt;NA&gt;</li>\n",
       "</ol>\n"
      ],
      "text/latex": [
       "\\begin{enumerate*}\n",
       "\\item 2001\n",
       "\\item 2004\n",
       "\\item 2008\n",
       "\\item <NA>\n",
       "\\end{enumerate*}\n"
      ],
      "text/markdown": [
       "1. 2001\n",
       "2. 2004\n",
       "3. 2008\n",
       "4. &lt;NA&gt;\n",
       "\n",
       "\n"
      ],
      "text/plain": [
       "[1] 2001 2004 2008   NA"
      ]
     },
     "metadata": {},
     "output_type": "display_data"
    }
   ],
   "source": [
    "# when numbers in a vector contain a string, all will be a string by default\n",
    "# example:\n",
    "years_vector <- c(2001, 2004, 2008, 'not a year') # \"2001\", \"2004\", \"2008\", \"not a year\"\n",
    "\n",
    "# this will convert to numeric but the last value (a string) is NA\n",
    "as.numeric(years_vector)"
   ]
  },
  {
   "cell_type": "code",
   "execution_count": 9,
   "id": "dcff1d51",
   "metadata": {},
   "outputs": [
    {
     "data": {
      "text/html": [
       "<ol class=list-inline>\n",
       "\t<li>1</li>\n",
       "\t<li>1</li>\n",
       "\t<li>0</li>\n",
       "\t<li>1</li>\n",
       "\t<li>0</li>\n",
       "</ol>\n"
      ],
      "text/latex": [
       "\\begin{enumerate*}\n",
       "\\item 1\n",
       "\\item 1\n",
       "\\item 0\n",
       "\\item 1\n",
       "\\item 0\n",
       "\\end{enumerate*}\n"
      ],
      "text/markdown": [
       "1. 1\n",
       "2. 1\n",
       "3. 0\n",
       "4. 1\n",
       "5. 0\n",
       "\n",
       "\n"
      ],
      "text/plain": [
       "[1] 1 1 0 1 0"
      ]
     },
     "metadata": {},
     "output_type": "display_data"
    },
    {
     "data": {
      "text/html": [
       "<ol class=list-inline>\n",
       "\t<li>1</li>\n",
       "\t<li>1</li>\n",
       "\t<li>0</li>\n",
       "\t<li>1</li>\n",
       "\t<li>0</li>\n",
       "</ol>\n"
      ],
      "text/latex": [
       "\\begin{enumerate*}\n",
       "\\item 1\n",
       "\\item 1\n",
       "\\item 0\n",
       "\\item 1\n",
       "\\item 0\n",
       "\\end{enumerate*}\n"
      ],
      "text/markdown": [
       "1. 1\n",
       "2. 1\n",
       "3. 0\n",
       "4. 1\n",
       "5. 0\n",
       "\n",
       "\n"
      ],
      "text/plain": [
       "[1] 1 1 0 1 0"
      ]
     },
     "metadata": {},
     "output_type": "display_data"
    }
   ],
   "source": [
    "# convert logical to numeric (as binary)\n",
    "logical_vector <- c(TRUE, TRUE, FALSE, TRUE, FALSE)\n",
    "\n",
    "as.numeric(logical_vector) # 1 1 0 1 0\n",
    "# save as a var\n",
    "binary_vector <- as.numeric(logical_vector)\n",
    "binary_vector "
   ]
  },
  {
   "cell_type": "markdown",
   "id": "b9338756",
   "metadata": {},
   "source": [
    "### Factors\n",
    "<p>like a variable that enables you to have distinct values</p>"
   ]
  },
  {
   "cell_type": "code",
   "execution_count": 10,
   "id": "f96f92d1",
   "metadata": {},
   "outputs": [
    {
     "data": {
      "text/html": [
       "<ol class=list-inline>\n",
       "\t<li>Asia</li>\n",
       "\t<li>Oceana</li>\n",
       "\t<li>Antartica</li>\n",
       "\t<li>Europe</li>\n",
       "\t<li>Africa</li>\n",
       "\t<li>North America</li>\n",
       "\t<li>South America</li>\n",
       "\t<li>Europe</li>\n",
       "\t<li>Africa</li>\n",
       "</ol>\n",
       "\n",
       "<details>\n",
       "\t<summary style=display:list-item;cursor:pointer>\n",
       "\t\t<strong>Levels</strong>:\n",
       "\t</summary>\n",
       "\t<ol class=list-inline>\n",
       "\t\t<li>'Africa'</li>\n",
       "\t\t<li>'Antartica'</li>\n",
       "\t\t<li>'Asia'</li>\n",
       "\t\t<li>'Europe'</li>\n",
       "\t\t<li>'North America'</li>\n",
       "\t\t<li>'Oceana'</li>\n",
       "\t\t<li>'South America'</li>\n",
       "\t</ol>\n",
       "</details>"
      ],
      "text/latex": [
       "\\begin{enumerate*}\n",
       "\\item Asia\n",
       "\\item Oceana\n",
       "\\item Antartica\n",
       "\\item Europe\n",
       "\\item Africa\n",
       "\\item North America\n",
       "\\item South America\n",
       "\\item Europe\n",
       "\\item Africa\n",
       "\\end{enumerate*}\n",
       "\n",
       "\\emph{Levels}: \\begin{enumerate*}\n",
       "\\item 'Africa'\n",
       "\\item 'Antartica'\n",
       "\\item 'Asia'\n",
       "\\item 'Europe'\n",
       "\\item 'North America'\n",
       "\\item 'Oceana'\n",
       "\\item 'South America'\n",
       "\\end{enumerate*}\n"
      ],
      "text/markdown": [
       "1. Asia\n",
       "2. Oceana\n",
       "3. Antartica\n",
       "4. Europe\n",
       "5. Africa\n",
       "6. North America\n",
       "7. South America\n",
       "8. Europe\n",
       "9. Africa\n",
       "\n",
       "\n",
       "\n",
       "**Levels**: 1. 'Africa'\n",
       "2. 'Antartica'\n",
       "3. 'Asia'\n",
       "4. 'Europe'\n",
       "5. 'North America'\n",
       "6. 'Oceana'\n",
       "7. 'South America'\n",
       "\n",
       "\n"
      ],
      "text/plain": [
       "[1] Asia          Oceana        Antartica     Europe        Africa       \n",
       "[6] North America South America Europe        Africa       \n",
       "Levels: Africa Antartica Asia Europe North America Oceana South America"
      ]
     },
     "metadata": {},
     "output_type": "display_data"
    }
   ],
   "source": [
    "labels <- c('Asia', 'Oceana', 'Antartica', 'Europe', 'Africa', 'North America', 'South America', 'Europe', 'Africa')\n",
    "\n",
    "# turn vector to a factor to see distinct values\n",
    "factor_labels <- factor(labels) \n",
    "\n",
    "factor_labels"
   ]
  },
  {
   "cell_type": "code",
   "execution_count": 11,
   "id": "af31cd05",
   "metadata": {},
   "outputs": [
    {
     "data": {
      "text/html": [
       "7"
      ],
      "text/latex": [
       "7"
      ],
      "text/markdown": [
       "7"
      ],
      "text/plain": [
       "[1] 7"
      ]
     },
     "metadata": {},
     "output_type": "display_data"
    }
   ],
   "source": [
    "# as.integer(factor_labels) will show the integer value in alp order\n",
    "\n",
    "# count of distinct factors in vector\n",
    "nlevels(factor_labels)"
   ]
  },
  {
   "cell_type": "code",
   "execution_count": 13,
   "id": "e5264d21",
   "metadata": {},
   "outputs": [
    {
     "data": {
      "text/html": [
       "<ol class=list-inline>\n",
       "\t<li>3</li>\n",
       "\t<li>1</li>\n",
       "\t<li>2</li>\n",
       "\t<li>1</li>\n",
       "\t<li>3</li>\n",
       "\t<li>1</li>\n",
       "</ol>\n"
      ],
      "text/latex": [
       "\\begin{enumerate*}\n",
       "\\item 3\n",
       "\\item 1\n",
       "\\item 2\n",
       "\\item 1\n",
       "\\item 3\n",
       "\\item 1\n",
       "\\end{enumerate*}\n"
      ],
      "text/markdown": [
       "1. 3\n",
       "2. 1\n",
       "3. 2\n",
       "4. 1\n",
       "5. 3\n",
       "6. 1\n",
       "\n",
       "\n"
      ],
      "text/plain": [
       "[1] 3 1 2 1 3 1"
      ]
     },
     "metadata": {},
     "output_type": "display_data"
    }
   ],
   "source": [
    "# ---- create ordinal columns with factor\n",
    "altitude_level <- c('High', 'Low', 'Medium', 'Low', 'High', 'Low')\n",
    "\n",
    "# order matters - use ORDER=TRUE, levels= \n",
    "# output: Low < Medium < High\n",
    "# if not ordered, the levels wont make sense here bc default is alphabetical\n",
    "altitude_factor <- factor(altitude_level, order = TRUE, levels=c('Low', 'Medium', 'High'))\n",
    "\n",
    "# verify by using as.integer\n",
    "# output is based on the levels stated above in the variable\n",
    "# 3 1 2 1 3 1\n",
    "as.integer(altitude_factor)"
   ]
  },
  {
   "cell_type": "markdown",
   "id": "b82e5c82",
   "metadata": {},
   "source": [
    "### Dates\n",
    "<p> use: as.Date( )</p>"
   ]
  },
  {
   "cell_type": "code",
   "execution_count": 14,
   "id": "f697c843",
   "metadata": {},
   "outputs": [
    {
     "data": {
      "text/html": [
       "'Date'"
      ],
      "text/latex": [
       "'Date'"
      ],
      "text/markdown": [
       "'Date'"
      ],
      "text/plain": [
       "[1] \"Date\""
      ]
     },
     "metadata": {},
     "output_type": "display_data"
    },
    {
     "data": {
      "text/html": [
       "'double'"
      ],
      "text/latex": [
       "'double'"
      ],
      "text/markdown": [
       "'double'"
      ],
      "text/plain": [
       "[1] \"double\""
      ]
     },
     "metadata": {},
     "output_type": "display_data"
    }
   ],
   "source": [
    "dates <- as.Date(c('2019-01-01', '2019-01-02'))\n",
    "\n",
    "class(dates) #\"Date\"\n",
    "\n",
    "typeof(dates) #\"double\"\n"
   ]
  },
  {
   "cell_type": "code",
   "execution_count": 15,
   "id": "426d7e47",
   "metadata": {},
   "outputs": [
    {
     "data": {
      "text/html": [
       "<ol class=list-inline>\n",
       "\t<li>17897</li>\n",
       "\t<li>17898</li>\n",
       "</ol>\n"
      ],
      "text/latex": [
       "\\begin{enumerate*}\n",
       "\\item 17897\n",
       "\\item 17898\n",
       "\\end{enumerate*}\n"
      ],
      "text/markdown": [
       "1. 17897\n",
       "2. 17898\n",
       "\n",
       "\n"
      ],
      "text/plain": [
       "[1] 17897 17898"
      ]
     },
     "metadata": {},
     "output_type": "display_data"
    }
   ],
   "source": [
    "#17897 17898 - 2nd value is higher bc the 2nd date is AFTER the 1st.\n",
    "# dates are counted by numbers since January 1970\n",
    "as.numeric(dates)"
   ]
  },
  {
   "cell_type": "code",
   "execution_count": 16,
   "id": "bb05ad18",
   "metadata": {},
   "outputs": [
    {
     "data": {
      "text/html": [
       "<time datetime=\"2019-01-01\">2019-01-01</time>"
      ],
      "text/latex": [
       "2019-01-01"
      ],
      "text/markdown": [
       "2019-01-01"
      ],
      "text/plain": [
       "[1] \"2019-01-01\""
      ]
     },
     "metadata": {},
     "output_type": "display_data"
    }
   ],
   "source": [
    "# format date where its weird!\n",
    "# lowercase y in format only picks up 2 chars of the year, use Y\n",
    "as.Date(c('01/01/2019'), format = '%d/%m/%Y')"
   ]
  },
  {
   "cell_type": "code",
   "execution_count": 17,
   "id": "7477c838",
   "metadata": {},
   "outputs": [
    {
     "data": {
      "text/html": [
       "<time datetime=\"2019-01-01\">2019-01-01</time>"
      ],
      "text/latex": [
       "2019-01-01"
      ],
      "text/markdown": [
       "2019-01-01"
      ],
      "text/plain": [
       "[1] \"2019-01-01\""
      ]
     },
     "metadata": {},
     "output_type": "display_data"
    }
   ],
   "source": [
    "# Another case of formating a weird ass date\n",
    "as.Date(c('01JAN2019'), format = '%d%b%Y')"
   ]
  },
  {
   "cell_type": "code",
   "execution_count": 19,
   "id": "e8d67322",
   "metadata": {},
   "outputs": [
    {
     "data": {
      "text/html": [
       "<time datetime=\"2019-01-01\">2019-01-01</time>"
      ],
      "text/latex": [
       "2019-01-01"
      ],
      "text/markdown": [
       "2019-01-01"
      ],
      "text/plain": [
       "[1] \"2019-01-01\""
      ]
     },
     "metadata": {},
     "output_type": "display_data"
    }
   ],
   "source": [
    "# Extract values by month, year or whole date\n",
    "example_date <- as.Date(c('01JAN2019'), format = '%d%b%Y')\n",
    "\n",
    "example_date"
   ]
  },
  {
   "cell_type": "code",
   "execution_count": 20,
   "id": "335b58f1",
   "metadata": {},
   "outputs": [
    {
     "data": {
      "text/html": [
       "'01'"
      ],
      "text/latex": [
       "'01'"
      ],
      "text/markdown": [
       "'01'"
      ],
      "text/plain": [
       "[1] \"01\""
      ]
     },
     "metadata": {},
     "output_type": "display_data"
    }
   ],
   "source": [
    "# extract month\n",
    "format(example_date, '%m')"
   ]
  },
  {
   "cell_type": "code",
   "execution_count": 21,
   "id": "0a24d290",
   "metadata": {},
   "outputs": [
    {
     "data": {
      "text/html": [
       "'01'"
      ],
      "text/latex": [
       "'01'"
      ],
      "text/markdown": [
       "'01'"
      ],
      "text/plain": [
       "[1] \"01\""
      ]
     },
     "metadata": {},
     "output_type": "display_data"
    }
   ],
   "source": [
    "# extract day \n",
    "format(example_date, '%d')"
   ]
  },
  {
   "cell_type": "code",
   "execution_count": 22,
   "id": "dc38e08d",
   "metadata": {},
   "outputs": [
    {
     "data": {
      "text/html": [
       "'Jan'"
      ],
      "text/latex": [
       "'Jan'"
      ],
      "text/markdown": [
       "'Jan'"
      ],
      "text/plain": [
       "[1] \"Jan\""
      ]
     },
     "metadata": {},
     "output_type": "display_data"
    }
   ],
   "source": [
    "# extract month shorthand name\n",
    "format(example_date, '%b')"
   ]
  },
  {
   "cell_type": "code",
   "execution_count": 23,
   "id": "cf8107cc",
   "metadata": {},
   "outputs": [
    {
     "data": {
      "text/html": [
       "'2019'"
      ],
      "text/latex": [
       "'2019'"
      ],
      "text/markdown": [
       "'2019'"
      ],
      "text/plain": [
       "[1] \"2019\""
      ]
     },
     "metadata": {},
     "output_type": "display_data"
    },
    {
     "data": {
      "text/html": [
       "<ol class=list-inline>\n",
       "\t<li>'2019'</li>\n",
       "\t<li>'2019'</li>\n",
       "</ol>\n"
      ],
      "text/latex": [
       "\\begin{enumerate*}\n",
       "\\item '2019'\n",
       "\\item '2019'\n",
       "\\end{enumerate*}\n"
      ],
      "text/markdown": [
       "1. '2019'\n",
       "2. '2019'\n",
       "\n",
       "\n"
      ],
      "text/plain": [
       "[1] \"2019\" \"2019\""
      ]
     },
     "metadata": {},
     "output_type": "display_data"
    }
   ],
   "source": [
    "# extract year\n",
    "# extract day \n",
    "format(example_date, '%Y') \n",
    "\n",
    "# apply this to a vector\n",
    "format(dates, '%Y')"
   ]
  },
  {
   "cell_type": "code",
   "execution_count": 24,
   "id": "5af32fa3",
   "metadata": {},
   "outputs": [
    {
     "data": {
      "text/html": [
       "<ol class=list-inline>\n",
       "\t<li>'01'</li>\n",
       "\t<li>'02'</li>\n",
       "</ol>\n"
      ],
      "text/latex": [
       "\\begin{enumerate*}\n",
       "\\item '01'\n",
       "\\item '02'\n",
       "\\end{enumerate*}\n"
      ],
      "text/markdown": [
       "1. '01'\n",
       "2. '02'\n",
       "\n",
       "\n"
      ],
      "text/plain": [
       "[1] \"01\" \"02\""
      ]
     },
     "metadata": {},
     "output_type": "display_data"
    }
   ],
   "source": [
    "# store days in a new vector\n",
    "days_vector <- format(dates, '%d')\n",
    "\n",
    "days_vector "
   ]
  },
  {
   "cell_type": "markdown",
   "id": "3ef3581f",
   "metadata": {},
   "source": [
    "### Challenges:"
   ]
  },
  {
   "cell_type": "markdown",
   "id": "a773a7ad",
   "metadata": {},
   "source": [
    "#### 1. Create a vector called boolean_vec, length=8, with TRUE on the first 5 positions and FALSE on the last 3."
   ]
  },
  {
   "cell_type": "code",
   "execution_count": 25,
   "id": "4d7644f2",
   "metadata": {},
   "outputs": [
    {
     "data": {
      "text/html": [
       "<ol class=list-inline>\n",
       "\t<li>TRUE</li>\n",
       "\t<li>TRUE</li>\n",
       "\t<li>TRUE</li>\n",
       "\t<li>TRUE</li>\n",
       "\t<li>TRUE</li>\n",
       "\t<li>FALSE</li>\n",
       "\t<li>FALSE</li>\n",
       "\t<li>FALSE</li>\n",
       "</ol>\n"
      ],
      "text/latex": [
       "\\begin{enumerate*}\n",
       "\\item TRUE\n",
       "\\item TRUE\n",
       "\\item TRUE\n",
       "\\item TRUE\n",
       "\\item TRUE\n",
       "\\item FALSE\n",
       "\\item FALSE\n",
       "\\item FALSE\n",
       "\\end{enumerate*}\n"
      ],
      "text/markdown": [
       "1. TRUE\n",
       "2. TRUE\n",
       "3. TRUE\n",
       "4. TRUE\n",
       "5. TRUE\n",
       "6. FALSE\n",
       "7. FALSE\n",
       "8. FALSE\n",
       "\n",
       "\n"
      ],
      "text/plain": [
       "[1]  TRUE  TRUE  TRUE  TRUE  TRUE FALSE FALSE FALSE"
      ]
     },
     "metadata": {},
     "output_type": "display_data"
    }
   ],
   "source": [
    "# Solution\n",
    "boolean_vec <- c(TRUE, TRUE, TRUE, TRUE, TRUE, FALSE, FALSE, FALSE)\n",
    "\n",
    "boolean_vec"
   ]
  },
  {
   "cell_type": "markdown",
   "id": "65f0c01f",
   "metadata": {},
   "source": [
    "#### 2. Convert your boolean_vec to 1's and 0's and store it in an object called numeric_vec."
   ]
  },
  {
   "cell_type": "code",
   "execution_count": 26,
   "id": "d9551807",
   "metadata": {},
   "outputs": [
    {
     "data": {
      "text/html": [
       "<ol class=list-inline>\n",
       "\t<li>1</li>\n",
       "\t<li>1</li>\n",
       "\t<li>1</li>\n",
       "\t<li>1</li>\n",
       "\t<li>1</li>\n",
       "\t<li>0</li>\n",
       "\t<li>0</li>\n",
       "\t<li>0</li>\n",
       "</ol>\n"
      ],
      "text/latex": [
       "\\begin{enumerate*}\n",
       "\\item 1\n",
       "\\item 1\n",
       "\\item 1\n",
       "\\item 1\n",
       "\\item 1\n",
       "\\item 0\n",
       "\\item 0\n",
       "\\item 0\n",
       "\\end{enumerate*}\n"
      ],
      "text/markdown": [
       "1. 1\n",
       "2. 1\n",
       "3. 1\n",
       "4. 1\n",
       "5. 1\n",
       "6. 0\n",
       "7. 0\n",
       "8. 0\n",
       "\n",
       "\n"
      ],
      "text/plain": [
       "[1] 1 1 1 1 1 0 0 0"
      ]
     },
     "metadata": {},
     "output_type": "display_data"
    }
   ],
   "source": [
    "# Solution\n",
    "numeric_vec <- as.integer(boolean_vec)\n",
    "\n",
    "numeric_vec"
   ]
  },
  {
   "cell_type": "markdown",
   "id": "545cfccd",
   "metadata": {},
   "source": [
    "#### 3. Test if your numeric_vec is a numeric using the R testing function."
   ]
  },
  {
   "cell_type": "code",
   "execution_count": 27,
   "id": "6682dfef",
   "metadata": {},
   "outputs": [
    {
     "data": {
      "text/html": [
       "'integer'"
      ],
      "text/latex": [
       "'integer'"
      ],
      "text/markdown": [
       "'integer'"
      ],
      "text/plain": [
       "[1] \"integer\""
      ]
     },
     "metadata": {},
     "output_type": "display_data"
    },
    {
     "data": {
      "text/html": [
       "'integer'"
      ],
      "text/latex": [
       "'integer'"
      ],
      "text/markdown": [
       "'integer'"
      ],
      "text/plain": [
       "[1] \"integer\""
      ]
     },
     "metadata": {},
     "output_type": "display_data"
    }
   ],
   "source": [
    "# Solution\n",
    "class(numeric_vec) \n",
    "\n",
    "typeof(numeric_vec) "
   ]
  },
  {
   "cell_type": "markdown",
   "id": "7f6f8955",
   "metadata": {},
   "source": [
    "#### 4. Convert your numeric_vec to character and store it in an object called char_vec."
   ]
  },
  {
   "cell_type": "code",
   "execution_count": 28,
   "id": "f0504800",
   "metadata": {},
   "outputs": [
    {
     "data": {
      "text/html": [
       "'character'"
      ],
      "text/latex": [
       "'character'"
      ],
      "text/markdown": [
       "'character'"
      ],
      "text/plain": [
       "[1] \"character\""
      ]
     },
     "metadata": {},
     "output_type": "display_data"
    }
   ],
   "source": [
    "# Solution\n",
    "char_vec <- as.character(numeric_vec)\n",
    "\n",
    "class(char_vec)"
   ]
  },
  {
   "cell_type": "markdown",
   "id": "1065f9b2",
   "metadata": {},
   "source": [
    "#### 5. Assign the fifth element on numeric_vec to the character \"5\"."
   ]
  },
  {
   "cell_type": "code",
   "execution_count": 29,
   "id": "7329771b",
   "metadata": {},
   "outputs": [
    {
     "data": {
      "text/html": [
       "<ol class=list-inline>\n",
       "\t<li>'1'</li>\n",
       "\t<li>'1'</li>\n",
       "\t<li>'1'</li>\n",
       "\t<li>'1'</li>\n",
       "\t<li>'5'</li>\n",
       "\t<li>'0'</li>\n",
       "\t<li>'0'</li>\n",
       "\t<li>'0'</li>\n",
       "</ol>\n"
      ],
      "text/latex": [
       "\\begin{enumerate*}\n",
       "\\item '1'\n",
       "\\item '1'\n",
       "\\item '1'\n",
       "\\item '1'\n",
       "\\item '5'\n",
       "\\item '0'\n",
       "\\item '0'\n",
       "\\item '0'\n",
       "\\end{enumerate*}\n"
      ],
      "text/markdown": [
       "1. '1'\n",
       "2. '1'\n",
       "3. '1'\n",
       "4. '1'\n",
       "5. '5'\n",
       "6. '0'\n",
       "7. '0'\n",
       "8. '0'\n",
       "\n",
       "\n"
      ],
      "text/plain": [
       "[1] \"1\" \"1\" \"1\" \"1\" \"5\" \"0\" \"0\" \"0\""
      ]
     },
     "metadata": {},
     "output_type": "display_data"
    }
   ],
   "source": [
    "char_vec[5] = '5'\n",
    "\n",
    "char_vec"
   ]
  },
  {
   "cell_type": "code",
   "execution_count": null,
   "id": "8653a7ad",
   "metadata": {},
   "outputs": [],
   "source": []
  },
  {
   "cell_type": "code",
   "execution_count": null,
   "id": "a19047d6",
   "metadata": {},
   "outputs": [],
   "source": []
  },
  {
   "cell_type": "code",
   "execution_count": null,
   "id": "98b00c7c",
   "metadata": {},
   "outputs": [],
   "source": []
  },
  {
   "cell_type": "code",
   "execution_count": null,
   "id": "6443dd4b",
   "metadata": {},
   "outputs": [],
   "source": []
  },
  {
   "cell_type": "code",
   "execution_count": null,
   "id": "dafb7fb4",
   "metadata": {},
   "outputs": [],
   "source": []
  },
  {
   "cell_type": "code",
   "execution_count": null,
   "id": "322e7264",
   "metadata": {},
   "outputs": [],
   "source": []
  },
  {
   "cell_type": "code",
   "execution_count": null,
   "id": "bdd001f3",
   "metadata": {},
   "outputs": [],
   "source": []
  }
 ],
 "metadata": {
  "kernelspec": {
   "display_name": "R",
   "language": "R",
   "name": "ir"
  },
  "language_info": {
   "codemirror_mode": "r",
   "file_extension": ".r",
   "mimetype": "text/x-r-source",
   "name": "R",
   "pygments_lexer": "r",
   "version": "3.6.1"
  }
 },
 "nbformat": 4,
 "nbformat_minor": 5
}
